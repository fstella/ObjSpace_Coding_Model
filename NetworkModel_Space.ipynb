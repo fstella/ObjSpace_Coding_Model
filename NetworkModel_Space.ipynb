{
 "cells": [
  {
   "cell_type": "code",
   "execution_count": 107,
   "id": "commercial-winter",
   "metadata": {},
   "outputs": [],
   "source": [
    "import numpy as np\n",
    "import matplotlib.pyplot as plt\n",
    "from scipy.spatial.distance import pdist as pdist\n",
    "from scipy.spatial.distance import squareform as squareform"
   ]
  },
  {
   "cell_type": "code",
   "execution_count": 181,
   "id": "pressing-lotus",
   "metadata": {},
   "outputs": [],
   "source": [
    "def PlaceField(x,y,x_c,y_c,peak_act=1,pf_sigma=10): \n",
    "    x_off = (x-x_c)**2\n",
    "    y_off = (y-y_c)**2\n",
    "    pf_act = peak_act*np.exp(-(x_off+y_off)/(2*pf_sigma**2))\n",
    "    return pf_act\n",
    "\n",
    "\n",
    "def BuildEnvironment(L=100,CA3_Dens=10,Samp_Dens=1):\n",
    "    X_Grid, Y_Grid = np.meshgrid(np.arange(0,L,Samp_Dens),np.arange(0,L,Samp_Dens)) \n",
    "    \n",
    "    CA3_X = np.linspace(0,L,int(L/CA3_Dens)+1) \n",
    "    CA3_X = (CA3_X[0:-1]+CA3_X[1:])/2\n",
    "    \n",
    "    X_Pf , Y_Pf = np.meshgrid(CA3_X,CA3_X)\n",
    "    \n",
    "    return X_Grid, Y_Grid, X_Pf, Y_Pf, X_Pf.size\n",
    "\n",
    "def Connections_Init(N_CA3,N_CA1):\n",
    "    Conn = np.random.rand(N_CA3,N_CA1)\n",
    "    Conn = Conn/np.linalg.norm(Conn,axis=0,ord=1)\n",
    "    return Conn\n",
    "\n",
    "def Compute_Sparsity(Vec):\n",
    "    sp = (np.mean(Vec))**2/np.mean(Vec**2)\n",
    "    return sp\n",
    "\n",
    "\n",
    "def Normalize_Activity(Act,m_trgt=1,s_trgt=0.1):\n",
    "    s = 1\n",
    "    thr = np.mean(Act)\n",
    "    thr_u = np.max(Act)\n",
    "    thr_d = np.min(Act)\n",
    "    cc = 0\n",
    "    while np.abs(s-s_trgt)>0.01:\n",
    "        Act_thr = Act - thr\n",
    "        Act_thr[Act_thr<0] = 0\n",
    "\n",
    "        s = Compute_Sparsity(Act_thr)\n",
    "        dec_s = np.sign(s-s_trgt)\n",
    "        if dec_s==1:\n",
    "            thr_d,thr,thr_u = [thr, (thr_u+thr_d)/2, thr_u]\n",
    "        else:\n",
    "            thr_d,thr,thr_u = [thr_d, (thr_u+thr_d)/2, thr]\n",
    "        cc = cc + 1\n",
    "        if(cc>1000):\n",
    "            break\n",
    "            \n",
    "    Act_thr = Act_thr/np.mean(Act_thr)*m_trgt\n",
    "    return Act_thr\n",
    "\n",
    "def Compute_Plasticity(Pre,Post,eta=0.001):\n",
    "    dw = Pre @ ((Post-np.mean(Post,axis=0)).T)\n",
    "    dw = dw * eta\n",
    "    return dw\n",
    "\n",
    "def Apply_Plasticity(Conn,dw_tot):\n",
    "    Conn += dw_tot\n",
    "    Conn[Conn<0] = 0\n",
    "    Conn = Conn/np.linalg.norm(Conn,axis=0,ord=1)\n",
    "    Conn[np.isnan(Conn)] = 0\n",
    "    return Conn\n"
   ]
  },
  {
   "cell_type": "code",
   "execution_count": 188,
   "id": "embedded-bhutan",
   "metadata": {},
   "outputs": [
    {
     "name": "stderr",
     "output_type": "stream",
     "text": [
      "/Users/federico/anaconda3/lib/python3.7/site-packages/ipykernel_launcher.py:59: RuntimeWarning: invalid value encountered in true_divide\n"
     ]
    },
    {
     "data": {
      "text/plain": [
       "<matplotlib.collections.PathCollection at 0x7fb900ee1890>"
      ]
     },
     "execution_count": 188,
     "metadata": {},
     "output_type": "execute_result"
    },
    {
     "data": {
      "image/png": "[encoded data removed]",
      "text/plain": [
       "<Figure size 432x288 with 1 Axes>"
      ]
     },
     "metadata": {
      "needs_background": "light"
     },
     "output_type": "display_data"
    }
   ],
   "source": [
    "eta_l = 0.0001 # LEARNING RATE\n",
    "n_rounds = 5 # AMOUNT OF LEARNING\n",
    "for spars in [0.1,0.2,0.3]:\n",
    "    \n",
    "    # TRAINING\n",
    "\n",
    "    X_Grid, Y_Grid, X_Pf, Y_Pf, N_CA3 = BuildEnvironment(L=100,CA3_Dens=10,Samp_Dens=1)\n",
    "    XY_Coor = np.vstack((X_Grid.flatten(), Y_Grid.flatten())).T \n",
    "    XY_DD = pdist(XY_Coor)\n",
    "    N_CA1 = N_CA3 * 3\n",
    "    Conn = Connections_Init(N_CA3,N_CA1)\n",
    "\n",
    "    for l_round in range(n_rounds):\n",
    "        dw_tot = 0\n",
    "        for zz in range(XY_Coor.shape[0]):\n",
    "            Act_XY = PlaceField(XY_Coor[zz][0],XY_Coor[zz][1],X_Pf.flatten(),Y_Pf.flatten())\n",
    "            CA1_Act = Act_XY@Conn\n",
    "\n",
    "\n",
    "            CA1_Time = Normalize_Activity(CA1_Act,1,s_trgt=spars)\n",
    "\n",
    "            Pre = Act_XY[:,np.newaxis]\n",
    "\n",
    "            Post = CA1_Time[:,np.newaxis]\n",
    "\n",
    "            dw_tot += Compute_Plasticity(Pre,Post,eta=eta_l)\n",
    "\n",
    "        Conn = Apply_Plasticity(Conn,dw_tot)\n",
    "\n",
    "    # TESTING\n",
    "\n",
    "    X_Grid, Y_Grid, X_Pf, Y_Pf, N_CA3 = BuildEnvironment(L=100,CA3_Dens=10,Samp_Dens=10)\n",
    "    XY_Coor = np.vstack((X_Grid.flatten(), Y_Grid.flatten())).T \n",
    "    XY_DD = pdist(XY_Coor)\n",
    "    N_CA1 = N_CA3 * 3\n",
    "\n",
    "\n",
    "    CA1_Out = np.zeros((XY_Coor.shape[0],N_CA1)) \n",
    "    for zz in range(XY_Coor.shape[0]):\n",
    "        Act_XY = PlaceField(XY_Coor[zz][0],XY_Coor[zz][1],X_Pf.flatten(),Y_Pf.flatten())\n",
    "        CA1_Act = Act_XY@Conn\n",
    "\n",
    "\n",
    "        CA1_Out[zz,:] = Normalize_Activity(CA1_Act,1,s_trgt=spars)\n",
    "\n",
    "\n",
    "    CA1_DD = 1 - pdist(CA1_Out,metric='correlation')\n",
    "    plt.scatter(XY_DD,CA1_DD)\n",
    "\n",
    "CA3_Out = np.zeros((XY_Coor.shape[0],N_CA3)) \n",
    "for zz in range(XY_Coor.shape[0]):\n",
    "    CA3_Out[zz,:] = PlaceField(XY_Coor[zz][0],XY_Coor[zz][1],X_Pf.flatten(),Y_Pf.flatten())\n",
    "CA3_DD = 1 - pdist(CA3_Out,metric='correlation')\n",
    "plt.scatter(XY_DD,CA3_DD)"
   ]
  },
  {
   "cell_type": "code",
   "execution_count": 191,
   "id": "perceived-universe",
   "metadata": {},
   "outputs": [
    {
     "data": {
      "text/plain": [
       "<matplotlib.collections.PathCollection at 0x7fb8f0c6fe10>"
      ]
     },
     "execution_count": 191,
     "metadata": {},
     "output_type": "execute_result"
    },
    {
     "data": {
      "image/png": "[encoded data removed]",
      "text/plain": [
       "<Figure size 432x288 with 1 Axes>"
      ]
     },
     "metadata": {
      "needs_background": "light"
     },
     "output_type": "display_data"
    }
   ],
   "source": [
    "eta_l = 0.0001\n",
    "n_rounds = 0 # NO LEARNING\n",
    "for spars in [0.1,0.2,0.3]:\n",
    "    \n",
    "    # TRAINING\n",
    "\n",
    "    X_Grid, Y_Grid, X_Pf, Y_Pf, N_CA3 = BuildEnvironment(L=100,CA3_Dens=10,Samp_Dens=1)\n",
    "    XY_Coor = np.vstack((X_Grid.flatten(), Y_Grid.flatten())).T \n",
    "    XY_DD = pdist(XY_Coor)\n",
    "    N_CA1 = N_CA3 * 3\n",
    "    Conn = Connections_Init(N_CA3,N_CA1)\n",
    "\n",
    "    for l_round in range(n_rounds):\n",
    "        dw_tot = 0\n",
    "        for zz in range(XY_Coor.shape[0]):\n",
    "            Act_XY = PlaceField(XY_Coor[zz][0],XY_Coor[zz][1],X_Pf.flatten(),Y_Pf.flatten())\n",
    "            CA1_Act = Act_XY@Conn\n",
    "\n",
    "\n",
    "            CA1_Time = Normalize_Activity(CA1_Act,1,s_trgt=spars)\n",
    "\n",
    "            Pre = Act_XY[:,np.newaxis]\n",
    "\n",
    "            Post = CA1_Time[:,np.newaxis]\n",
    "\n",
    "            dw_tot += Compute_Plasticity(Pre,Post,eta=eta_l)\n",
    "\n",
    "        Conn = Apply_Plasticity(Conn,dw_tot)\n",
    "\n",
    "    # TESTING\n",
    "\n",
    "    X_Grid, Y_Grid, X_Pf, Y_Pf, N_CA3 = BuildEnvironment(L=100,CA3_Dens=10,Samp_Dens=10)\n",
    "    XY_Coor = np.vstack((X_Grid.flatten(), Y_Grid.flatten())).T \n",
    "    XY_DD = pdist(XY_Coor)\n",
    "    N_CA1 = N_CA3 * 3\n",
    "\n",
    "\n",
    "    CA1_Out = np.zeros((XY_Coor.shape[0],N_CA1)) \n",
    "    for zz in range(XY_Coor.shape[0]):\n",
    "        Act_XY = PlaceField(XY_Coor[zz][0],XY_Coor[zz][1],X_Pf.flatten(),Y_Pf.flatten())\n",
    "        CA1_Act = Act_XY@Conn\n",
    "\n",
    "\n",
    "        CA1_Out[zz,:] = Normalize_Activity(CA1_Act,1,s_trgt=spars)\n",
    "\n",
    "\n",
    "    CA1_DD = 1 - pdist(CA1_Out,metric='correlation')\n",
    "    plt.scatter(XY_DD,CA1_DD)\n",
    "\n",
    "CA3_Out = np.zeros((XY_Coor.shape[0],N_CA3)) \n",
    "for zz in range(XY_Coor.shape[0]):\n",
    "    CA3_Out[zz,:] = PlaceField(XY_Coor[zz][0],XY_Coor[zz][1],X_Pf.flatten(),Y_Pf.flatten())\n",
    "CA3_DD = 1 - pdist(CA3_Out,metric='correlation')\n",
    "plt.scatter(XY_DD,CA3_DD)"
   ]
  },
  {
   "cell_type": "code",
   "execution_count": null,
   "id": "introductory-ticket",
   "metadata": {},
   "outputs": [],
   "source": []
  }
 ],
 "metadata": {
  "kernelspec": {
   "display_name": "Python 3",
   "language": "python",
   "name": "python3"
  },
  "language_info": {
   "codemirror_mode": {
    "name": "ipython",
    "version": 3
   },
   "file_extension": ".py",
   "mimetype": "text/x-python",
   "name": "python",
   "nbconvert_exporter": "python",
   "pygments_lexer": "ipython3",
   "version": "3.7.6"
  }
 },
 "nbformat": 4,
 "nbformat_minor": 5
}

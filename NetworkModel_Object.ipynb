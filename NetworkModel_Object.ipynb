{
 "cells": [
  {
   "cell_type": "code",
   "execution_count": 6,
   "id": "retired-classic",
   "metadata": {},
   "outputs": [],
   "source": [
    "import numpy as np\n",
    "import matplotlib.pyplot as plt\n",
    "from scipy.spatial.distance import pdist as pdist\n",
    "from scipy.spatial.distance import squareform as squareform"
   ]
  },
  {
   "cell_type": "code",
   "execution_count": 30,
   "id": "meaning-search",
   "metadata": {},
   "outputs": [],
   "source": [
    "def Build_Patterns(N_Patt=10,N_Repl=100,Noise_Level=0.1,N_CA3=100):\n",
    "    Templ = np.random.rand(N_Patt,N_CA3)\n",
    "    \n",
    "    Patt = np.zeros((N_Patt*N_Repl,N_CA3))\n",
    "    kk = 0\n",
    "    for tt in range(N_Patt):\n",
    "        for cc in range(N_Repl):\n",
    "            Patt[kk,:] = Templ[tt,:]+np.random.normal(loc=0,scale=Noise_Level,size=Templ[tt,:].shape)   \n",
    "            kk += 1\n",
    "    Patt[Patt<0] = 0\n",
    "    \n",
    "    for zz in range(Patt.shape[0]):\n",
    "        Patt[zz,:] = Normalize_Activity(Patt[zz,:],m_trgt=1,s_trgt=0.3)\n",
    "    \n",
    "    \n",
    "    return Patt\n",
    "    \n",
    "\n",
    "def Connections_Init(N_CA3,N_CA1):\n",
    "    Conn = np.random.rand(N_CA3,N_CA1)\n",
    "    Conn = Conn/np.linalg.norm(Conn,axis=0,ord=1)\n",
    "    return Conn\n",
    "\n",
    "def Compute_Sparsity(Vec):\n",
    "    sp = (np.mean(Vec))**2/np.mean(Vec**2)\n",
    "    return sp\n",
    "\n",
    "\n",
    "def Normalize_Activity(Act,m_trgt=1,s_trgt=0.1):\n",
    "    s = 1\n",
    "    thr = np.mean(Act)\n",
    "    thr_u = np.max(Act)\n",
    "    thr_d = np.min(Act)\n",
    "    cc = 0\n",
    "    while np.abs(s-s_trgt)>0.01:\n",
    "        Act_thr = Act - thr\n",
    "        Act_thr[Act_thr<0] = 0\n",
    "\n",
    "        s = Compute_Sparsity(Act_thr)\n",
    "        dec_s = np.sign(s-s_trgt)\n",
    "        if dec_s==1:\n",
    "            thr_d,thr,thr_u = [thr, (thr_u+thr_d)/2, thr_u]\n",
    "        else:\n",
    "            thr_d,thr,thr_u = [thr_d, (thr_u+thr_d)/2, thr]\n",
    "        cc = cc + 1\n",
    "        if(cc>1000):\n",
    "            break\n",
    "            \n",
    "    Act_thr = Act_thr/np.mean(Act_thr)*m_trgt\n",
    "    return Act_thr\n",
    "\n",
    "def Compute_Plasticity(Pre,Post,eta=0.001):\n",
    "    dw = Pre @ ((Post-np.mean(Post,axis=0)).T)\n",
    "    dw = dw * eta\n",
    "    return dw\n",
    "\n",
    "def Apply_Plasticity(Conn,dw_tot):\n",
    "    Conn += dw_tot\n",
    "    Conn[Conn<0] = 0\n",
    "    Conn = Conn/np.linalg.norm(Conn,axis=0,ord=1)\n",
    "    Conn[np.isnan(Conn)] = 0\n",
    "    return Conn\n"
   ]
  },
  {
   "cell_type": "code",
   "execution_count": 36,
   "id": "junior-playing",
   "metadata": {},
   "outputs": [
    {
     "data": {
      "text/plain": [
       "<matplotlib.collections.PathCollection at 0x7f9c182ea0d0>"
      ]
     },
     "execution_count": 36,
     "metadata": {},
     "output_type": "execute_result"
    },
    {
     "data": {
      "image/png": "[encoded data removed]",
      "text/plain": [
       "<Figure size 432x288 with 1 Axes>"
      ]
     },
     "metadata": {
      "needs_background": "light"
     },
     "output_type": "display_data"
    }
   ],
   "source": [
    "eta_l = 0.00001\n",
    "n_rounds = 10\n",
    "N_CA3 = 100\n",
    "\n",
    "Patt = Build_Patterns(N_Patt=20,N_Repl=100,Noise_Level=0.1,N_CA3=N_CA3)\n",
    "\n",
    "\n",
    "for spars in [0.1,0.2,0.3]:\n",
    "    \n",
    "    N_CA1 = N_CA3 * 3\n",
    "    Conn = Connections_Init(N_CA3,N_CA1)\n",
    "    # TRAINING\n",
    "    for l_round in range(n_rounds):\n",
    "        dw_tot = 0\n",
    "        for zz in range(Patt.shape[0]):\n",
    "            Act_Obj = Patt[zz,:]\n",
    "            CA1_Act = Act_Obj@Conn\n",
    "\n",
    "\n",
    "            CA1_Time = Normalize_Activity(CA1_Act,1,s_trgt=spars)\n",
    "\n",
    "            Pre = Act_Obj[:,np.newaxis]\n",
    "\n",
    "            Post = CA1_Time[:,np.newaxis]\n",
    "\n",
    "            dw_tot += Compute_Plasticity(Pre,Post,eta=eta_l)\n",
    "\n",
    "        Conn = Apply_Plasticity(Conn,dw_tot)\n",
    "\n",
    "\n",
    "    # TESTING\n",
    "    CA1_Out = np.zeros((Patt.shape[0],N_CA1)) \n",
    "    for zz in range(Patt.shape[0]):\n",
    "        Act_Obj = Patt[zz,:]\n",
    "        CA1_Act = Act_Obj@Conn\n",
    "\n",
    "\n",
    "        CA1_Out[zz,:] = Normalize_Activity(CA1_Act,1,s_trgt=spars)\n",
    "\n",
    "\n",
    "    CA1_DD = squareform(1 - pdist(CA1_Out,metric='correlation'))\n",
    "    in_comp = squareform(CA1_DD[0:100,0:100])  \n",
    "    plt.scatter(np.ones(in_comp.shape)*1,in_comp)\n",
    "    out_comp = CA1_DD[0:100,100:].flatten()\n",
    "    #plt.scatter(np.ones(out_comp.shape)*2,out_comp)\n",
    "    plt.scatter(2,np.mean(out_comp)) \n",
    "\n",
    "CA3_Out = np.zeros((Patt.shape[0],N_CA3)) \n",
    "for zz in range(Patt.shape[0]):\n",
    "    CA3_Out[zz,:] = Patt[zz,:]\n",
    "CA3_DD = squareform(1 - pdist(CA3_Out,metric='correlation'))\n",
    "in_comp = squareform(CA3_DD[0:100,0:100])  \n",
    "plt.scatter(np.ones(in_comp.shape)*1,in_comp)\n",
    "out_comp = CA3_DD[0:100,100:].flatten()\n",
    "#plt.scatter(np.ones(out_comp.shape)*2,out_comp)\n",
    "plt.scatter(2,np.mean(out_comp)) "
   ]
  },
  {
   "cell_type": "code",
   "execution_count": 33,
   "id": "professional-mayor",
   "metadata": {},
   "outputs": [
    {
     "data": {
      "image/png": "[encoded data removed]",
      "text/plain": [
       "<Figure size 432x288 with 1 Axes>"
      ]
     },
     "metadata": {
      "needs_background": "light"
     },
     "output_type": "display_data"
    }
   ],
   "source": [
    "eta_l = 0.0001\n",
    "n_rounds = 0 # NO LEARNING\n",
    "N_CA3 = 100\n",
    "\n",
    "Patt = Build_Patterns(N_Patt=10,N_Repl=100,Noise_Level=0.1,N_CA3=N_CA3)\n",
    "\n",
    "\n",
    "for spars in [0.1,0.2,0.3]:\n",
    "    \n",
    "    N_CA1 = N_CA3 * 3\n",
    "    Conn = Connections_Init(N_CA3,N_CA1)\n",
    "    # TRAINING\n",
    "    for l_round in range(n_rounds):\n",
    "        dw_tot = 0\n",
    "        for zz in range(Patt.shape[0]):\n",
    "            Act_Obj = Patt[zz,:]\n",
    "            CA1_Act = Act_Obj@Conn\n",
    "\n",
    "\n",
    "            CA1_Time = Normalize_Activity(CA1_Act,1,s_trgt=spars)\n",
    "\n",
    "            Pre = Act_Obj[:,np.newaxis]\n",
    "\n",
    "            Post = CA1_Time[:,np.newaxis]\n",
    "\n",
    "            dw_tot += Compute_Plasticity(Pre,Post,eta=eta_l)\n",
    "\n",
    "        Conn = Apply_Plasticity(Conn,dw_tot)\n",
    "\n",
    "\n",
    "    # TESTING\n",
    "    CA1_Out = np.zeros((Patt.shape[0],N_CA1)) \n",
    "    for zz in range(Patt.shape[0]):\n",
    "        Act_Obj = Patt[zz,:]\n",
    "        CA1_Act = Act_Obj@Conn\n",
    "\n",
    "\n",
    "        CA1_Out[zz,:] = Normalize_Activity(CA1_Act,1,s_trgt=spars)\n",
    "\n",
    "\n",
    "    CA1_DD = squareform(1 - pdist(CA1_Out,metric='correlation'))\n",
    "    in_comp = squareform(CA1_DD[0:100,0:100])  \n",
    "    plt.scatter(np.ones(in_comp.shape)*1,in_comp)\n",
    "    out_comp = CA1_DD[0:100,100:].flatten()\n",
    "    #plt.scatter(np.ones(out_comp.shape)*2,out_comp)\n",
    "    plt.scatter(2,np.mean(out_comp)) \n",
    "\n",
    "# CA3_Out = np.zeros((XY_Coor.shape[0],N_CA3)) \n",
    "# for zz in range(XY_Coor.shape[0]):\n",
    "#     CA3_Out[zz,:] = PlaceField(XY_Coor[zz][0],XY_Coor[zz][1],X_Pf.flatten(),Y_Pf.flatten())\n",
    "# CA3_DD = 1 - pdist(CA3_Out,metric='correlation')\n",
    "# plt.scatter(XY_DD,CA3_DD)"
   ]
  }
 ],
 "metadata": {
  "kernelspec": {
   "display_name": "Python 3",
   "language": "python",
   "name": "python3"
  },
  "language_info": {
   "codemirror_mode": {
    "name": "ipython",
    "version": 3
   },
   "file_extension": ".py",
   "mimetype": "text/x-python",
   "name": "python",
   "nbconvert_exporter": "python",
   "pygments_lexer": "ipython3",
   "version": "3.7.6"
  }
 },
 "nbformat": 4,
 "nbformat_minor": 5
}

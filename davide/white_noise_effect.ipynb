{
 "cells": [
  {
   "cell_type": "code",
   "execution_count": 15,
   "id": "medieval-newfoundland",
   "metadata": {},
   "outputs": [],
   "source": [
    "import numpy as np\n",
    "import matplotlib.pyplot as plt\n",
    "from scipy.spatial.distance import pdist as pdist\n",
    "from scipy.spatial.distance import squareform as squareform\n",
    "from tqdm import tqdm\n",
    "from itertools import product\n",
    "import pickle\n",
    "from scipy.stats import binned_statistic\n"
   ]
  },
  {
   "cell_type": "markdown",
   "id": "147c5450",
   "metadata": {},
   "source": [
    "# Model\n",
    "Idea: observe the effect of random CA3-CA1 projections in the case of low dimensional continuous attractor vs randomly projected high dimensional attractors\n"
   ]
  },
  {
   "cell_type": "code",
   "execution_count": 2,
   "id": "skilled-spray",
   "metadata": {},
   "outputs": [],
   "source": [
    "# place field activation funtion\n",
    "def PlaceField(x,y,x_c,y_c,peak_act=1,pf_sigma=10): \n",
    "    x_off = (x-x_c)**2\n",
    "    y_off = (y-y_c)**2\n",
    "    pf_act = peak_act*np.exp(-(x_off+y_off)/(2*pf_sigma**2))\n",
    "    return pf_act\n",
    "\n",
    "# builds environmenr \n",
    "def BuildEnvironment(L=100,CA3_Dens=10,Samp_Dens=1):\n",
    "    X_Grid, Y_Grid = np.meshgrid(np.arange(0,L,Samp_Dens),np.arange(0,L,Samp_Dens)) \n",
    "    \n",
    "    CA3_X = np.linspace(0,L,int(L/CA3_Dens)+1) \n",
    "    CA3_X = (CA3_X[0:-1]+CA3_X[1:])/2\n",
    "    \n",
    "    X_Pf , Y_Pf = np.meshgrid(CA3_X,CA3_X)\n",
    "    \n",
    "    return X_Grid, Y_Grid, X_Pf, Y_Pf, X_Pf.size\n",
    "\n",
    "def Connections_Init(N_CA3,N_CA1):\n",
    "    Conn = np.random.rand(N_CA3,N_CA1)\n",
    "    Conn = Conn/np.linalg.norm(Conn,axis=0,ord=1)\n",
    "    return Conn\n",
    "\n",
    "def Compute_Sparsity(Vec):\n",
    "    sp = (np.mean(Vec))**2/np.mean(Vec**2)\n",
    "    return sp\n",
    "\n",
    "\n",
    "\n",
    "def Normalize_Activity(Act,sparsity=0.1):\n",
    "    th = np.percentile(Act,(1.0-sparsity)*100)\n",
    "    Act = Act-th\n",
    "    Act[Act<0] = 0\n",
    "    Act = Act/np.mean(Act)\n",
    "    return Act\n",
    "\n",
    "def Compute_Plasticity(Pre,Post,eta=0.001):\n",
    "    dw = Pre @ ((Post-np.mean(Post,axis=0)).T)\n",
    "    dw = dw * eta\n",
    "    return dw\n",
    "\n",
    "def Apply_Plasticity(Conn,dw_tot):\n",
    "    Conn += dw_tot\n",
    "    Conn[Conn<0] = 0\n",
    "    Conn = Conn/np.linalg.norm(Conn,axis=0,ord=1)\n",
    "    Conn[np.isnan(Conn)] = 0\n",
    "    return Conn\n",
    "\n",
    "def Add_Noise(vector,sigma):\n",
    "    vector += np.random.uniform(-sigma,sigma,size = vector.shape)\n",
    "    return vector\n",
    "\n",
    "\n"
   ]
  },
  {
   "cell_type": "markdown",
   "id": "5c117780",
   "metadata": {},
   "source": [
    "# Noisy learning"
   ]
  },
  {
   "cell_type": "code",
   "execution_count": 46,
   "id": "instrumental-kinase",
   "metadata": {},
   "outputs": [
    {
     "name": "stderr",
     "output_type": "stream",
     "text": [
      "  0%|          | 0/10000 [00:00<?, ?it/s]"
     ]
    },
    {
     "name": "stdout",
     "output_type": "stream",
     "text": [
      "Computing spastity:0.1, noise:0 ... \n"
     ]
    },
    {
     "name": "stderr",
     "output_type": "stream",
     "text": [
      "100%|██████████| 10000/10000 [00:02<00:00, 4343.60it/s]\n",
      "<ipython-input-2-d17828731205>:45: RuntimeWarning: invalid value encountered in true_divide\n",
      "  Conn = Conn/np.linalg.norm(Conn,axis=0,ord=1)\n",
      "100%|██████████| 10000/10000 [00:02<00:00, 4308.07it/s]\n",
      "100%|██████████| 10000/10000 [00:02<00:00, 4522.32it/s]\n",
      "100%|██████████| 10000/10000 [00:02<00:00, 4408.17it/s]\n",
      "100%|██████████| 10000/10000 [00:02<00:00, 4220.85it/s]\n",
      "100%|██████████| 10000/10000 [00:02<00:00, 4468.95it/s]\n",
      "100%|██████████| 10000/10000 [00:02<00:00, 4208.40it/s]\n",
      "100%|██████████| 10000/10000 [00:02<00:00, 4450.45it/s]\n",
      "100%|██████████| 10000/10000 [00:02<00:00, 4513.02it/s]\n",
      "100%|██████████| 10000/10000 [00:02<00:00, 4382.98it/s]\n",
      "  0%|          | 0/10000 [00:00<?, ?it/s]"
     ]
    },
    {
     "name": "stdout",
     "output_type": "stream",
     "text": [
      "Computing spastity:0.1, noise:0.1 ... \n"
     ]
    },
    {
     "name": "stderr",
     "output_type": "stream",
     "text": [
      "100%|██████████| 10000/10000 [00:02<00:00, 4456.91it/s]\n",
      "100%|██████████| 10000/10000 [00:02<00:00, 4314.00it/s]\n",
      "100%|██████████| 10000/10000 [00:02<00:00, 4190.38it/s]\n",
      "100%|██████████| 10000/10000 [00:02<00:00, 4050.63it/s]\n",
      "100%|██████████| 10000/10000 [00:02<00:00, 4134.72it/s]\n",
      "100%|██████████| 10000/10000 [00:02<00:00, 4339.69it/s]\n",
      "100%|██████████| 10000/10000 [00:02<00:00, 4262.11it/s]\n",
      "100%|██████████| 10000/10000 [00:02<00:00, 4180.79it/s]\n",
      "100%|██████████| 10000/10000 [00:02<00:00, 4467.42it/s]\n",
      "100%|██████████| 10000/10000 [00:02<00:00, 4362.74it/s]\n",
      "  0%|          | 0/10000 [00:00<?, ?it/s]"
     ]
    },
    {
     "name": "stdout",
     "output_type": "stream",
     "text": [
      "Computing spastity:0.1, noise:0.5 ... \n"
     ]
    },
    {
     "name": "stderr",
     "output_type": "stream",
     "text": [
      "100%|██████████| 10000/10000 [00:02<00:00, 4497.87it/s]\n",
      "100%|██████████| 10000/10000 [00:02<00:00, 4572.03it/s]\n",
      "100%|██████████| 10000/10000 [00:02<00:00, 4606.98it/s]\n",
      "100%|██████████| 10000/10000 [00:02<00:00, 4557.99it/s]\n",
      "100%|██████████| 10000/10000 [00:02<00:00, 4556.25it/s]\n",
      "100%|██████████| 10000/10000 [00:02<00:00, 4623.86it/s]\n",
      "100%|██████████| 10000/10000 [00:02<00:00, 4628.41it/s]\n",
      "100%|██████████| 10000/10000 [00:02<00:00, 4594.18it/s]\n",
      "100%|██████████| 10000/10000 [00:02<00:00, 4451.21it/s]\n",
      "100%|██████████| 10000/10000 [00:02<00:00, 4532.46it/s]\n",
      "  0%|          | 0/10000 [00:00<?, ?it/s]"
     ]
    },
    {
     "name": "stdout",
     "output_type": "stream",
     "text": [
      "Computing spastity:0.1, noise:1 ... \n"
     ]
    },
    {
     "name": "stderr",
     "output_type": "stream",
     "text": [
      "100%|██████████| 10000/10000 [00:02<00:00, 4570.64it/s]\n",
      "100%|██████████| 10000/10000 [00:02<00:00, 4585.39it/s]\n",
      "100%|██████████| 10000/10000 [00:02<00:00, 4563.03it/s]\n",
      "100%|██████████| 10000/10000 [00:02<00:00, 4515.60it/s]\n",
      "100%|██████████| 10000/10000 [00:02<00:00, 4540.46it/s]\n",
      "100%|██████████| 10000/10000 [00:02<00:00, 4546.81it/s]\n",
      "100%|██████████| 10000/10000 [00:02<00:00, 4619.03it/s]\n",
      "100%|██████████| 10000/10000 [00:02<00:00, 4547.90it/s]\n",
      "100%|██████████| 10000/10000 [00:02<00:00, 4560.09it/s]\n",
      "100%|██████████| 10000/10000 [00:02<00:00, 4580.75it/s]\n",
      "  0%|          | 0/10000 [00:00<?, ?it/s]"
     ]
    },
    {
     "name": "stdout",
     "output_type": "stream",
     "text": [
      "Computing spastity:0.1, noise:2 ... \n"
     ]
    },
    {
     "name": "stderr",
     "output_type": "stream",
     "text": [
      "100%|██████████| 10000/10000 [00:02<00:00, 4567.12it/s]\n",
      "100%|██████████| 10000/10000 [00:02<00:00, 4567.79it/s]\n",
      "100%|██████████| 10000/10000 [00:02<00:00, 4577.62it/s]\n",
      "100%|██████████| 10000/10000 [00:02<00:00, 4567.97it/s]\n",
      "100%|██████████| 10000/10000 [00:02<00:00, 4595.89it/s]\n",
      "100%|██████████| 10000/10000 [00:02<00:00, 3990.02it/s]\n",
      "100%|██████████| 10000/10000 [00:02<00:00, 4112.10it/s]\n",
      "100%|██████████| 10000/10000 [00:02<00:00, 4233.10it/s]\n",
      "100%|██████████| 10000/10000 [00:02<00:00, 4166.98it/s]\n",
      "100%|██████████| 10000/10000 [00:02<00:00, 4220.23it/s]\n",
      "  0%|          | 0/10000 [00:00<?, ?it/s]"
     ]
    },
    {
     "name": "stdout",
     "output_type": "stream",
     "text": [
      "Computing spastity:0.2, noise:0 ... \n"
     ]
    },
    {
     "name": "stderr",
     "output_type": "stream",
     "text": [
      "100%|██████████| 10000/10000 [00:02<00:00, 4438.42it/s]\n",
      "100%|██████████| 10000/10000 [00:02<00:00, 4575.88it/s]\n",
      "100%|██████████| 10000/10000 [00:02<00:00, 4499.23it/s]\n",
      "100%|██████████| 10000/10000 [00:02<00:00, 4527.00it/s]\n",
      "100%|██████████| 10000/10000 [00:02<00:00, 4585.21it/s]\n",
      "100%|██████████| 10000/10000 [00:02<00:00, 4578.95it/s]\n",
      "100%|██████████| 10000/10000 [00:02<00:00, 4534.92it/s]\n",
      "100%|██████████| 10000/10000 [00:02<00:00, 4622.04it/s]\n",
      "100%|██████████| 10000/10000 [00:02<00:00, 4605.39it/s]\n",
      "100%|██████████| 10000/10000 [00:02<00:00, 4594.64it/s]\n",
      "  0%|          | 0/10000 [00:00<?, ?it/s]"
     ]
    },
    {
     "name": "stdout",
     "output_type": "stream",
     "text": [
      "Computing spastity:0.2, noise:0.1 ... \n"
     ]
    },
    {
     "name": "stderr",
     "output_type": "stream",
     "text": [
      "100%|██████████| 10000/10000 [00:02<00:00, 4555.02it/s]\n",
      "100%|██████████| 10000/10000 [00:02<00:00, 4545.16it/s]\n",
      "100%|██████████| 10000/10000 [00:02<00:00, 4544.61it/s]\n",
      "100%|██████████| 10000/10000 [00:02<00:00, 4445.33it/s]\n",
      "100%|██████████| 10000/10000 [00:02<00:00, 4469.47it/s]\n",
      "100%|██████████| 10000/10000 [00:02<00:00, 4254.03it/s]\n",
      "100%|██████████| 10000/10000 [00:02<00:00, 4517.94it/s]\n",
      "100%|██████████| 10000/10000 [00:02<00:00, 4567.21it/s]\n",
      "100%|██████████| 10000/10000 [00:02<00:00, 4622.78it/s]\n",
      "100%|██████████| 10000/10000 [00:02<00:00, 4567.40it/s]\n",
      "  0%|          | 0/10000 [00:00<?, ?it/s]"
     ]
    },
    {
     "name": "stdout",
     "output_type": "stream",
     "text": [
      "Computing spastity:0.2, noise:0.5 ... \n"
     ]
    },
    {
     "name": "stderr",
     "output_type": "stream",
     "text": [
      "100%|██████████| 10000/10000 [00:02<00:00, 4510.49it/s]\n",
      "100%|██████████| 10000/10000 [00:02<00:00, 4637.68it/s]\n",
      "100%|██████████| 10000/10000 [00:02<00:00, 4587.90it/s]\n",
      "100%|██████████| 10000/10000 [00:02<00:00, 4563.43it/s]\n",
      "100%|██████████| 10000/10000 [00:02<00:00, 4523.26it/s]\n",
      "100%|██████████| 10000/10000 [00:02<00:00, 4560.29it/s]\n",
      "100%|██████████| 10000/10000 [00:02<00:00, 4562.08it/s]\n",
      "100%|██████████| 10000/10000 [00:02<00:00, 4618.79it/s]\n",
      "100%|██████████| 10000/10000 [00:02<00:00, 4580.48it/s]\n",
      "100%|██████████| 10000/10000 [00:02<00:00, 4551.72it/s]\n",
      "  0%|          | 0/10000 [00:00<?, ?it/s]"
     ]
    },
    {
     "name": "stdout",
     "output_type": "stream",
     "text": [
      "Computing spastity:0.2, noise:1 ... \n"
     ]
    },
    {
     "name": "stderr",
     "output_type": "stream",
     "text": [
      "100%|██████████| 10000/10000 [00:02<00:00, 4530.15it/s]\n",
      "100%|██████████| 10000/10000 [00:02<00:00, 4600.29it/s]\n",
      "100%|██████████| 10000/10000 [00:02<00:00, 4584.14it/s]\n",
      "100%|██████████| 10000/10000 [00:02<00:00, 4540.99it/s]\n",
      "100%|██████████| 10000/10000 [00:02<00:00, 4523.24it/s]\n",
      "100%|██████████| 10000/10000 [00:02<00:00, 4550.05it/s]\n",
      "100%|██████████| 10000/10000 [00:02<00:00, 4582.07it/s]\n",
      "100%|██████████| 10000/10000 [00:02<00:00, 4519.20it/s]\n",
      "100%|██████████| 10000/10000 [00:02<00:00, 4547.48it/s]\n",
      "100%|██████████| 10000/10000 [00:02<00:00, 4601.25it/s]\n",
      "  0%|          | 0/10000 [00:00<?, ?it/s]"
     ]
    },
    {
     "name": "stdout",
     "output_type": "stream",
     "text": [
      "Computing spastity:0.2, noise:2 ... \n"
     ]
    },
    {
     "name": "stderr",
     "output_type": "stream",
     "text": [
      "100%|██████████| 10000/10000 [00:02<00:00, 4547.03it/s]\n",
      "100%|██████████| 10000/10000 [00:02<00:00, 4586.97it/s]\n",
      "100%|██████████| 10000/10000 [00:02<00:00, 4523.36it/s]\n",
      "100%|██████████| 10000/10000 [00:02<00:00, 4588.42it/s]\n",
      "100%|██████████| 10000/10000 [00:02<00:00, 4555.73it/s]\n",
      "100%|██████████| 10000/10000 [00:02<00:00, 4550.44it/s]\n",
      "100%|██████████| 10000/10000 [00:02<00:00, 4537.47it/s]\n",
      "100%|██████████| 10000/10000 [00:02<00:00, 4617.68it/s]\n",
      "100%|██████████| 10000/10000 [00:02<00:00, 4440.98it/s]\n",
      "100%|██████████| 10000/10000 [00:02<00:00, 4589.73it/s]\n",
      "  0%|          | 0/10000 [00:00<?, ?it/s]"
     ]
    },
    {
     "name": "stdout",
     "output_type": "stream",
     "text": [
      "Computing spastity:0.3, noise:0 ... \n"
     ]
    },
    {
     "name": "stderr",
     "output_type": "stream",
     "text": [
      "100%|██████████| 10000/10000 [00:02<00:00, 4538.84it/s]\n",
      "100%|██████████| 10000/10000 [00:02<00:00, 4516.33it/s]\n",
      "100%|██████████| 10000/10000 [00:02<00:00, 4526.54it/s]\n",
      "100%|██████████| 10000/10000 [00:02<00:00, 4489.64it/s]\n",
      "100%|██████████| 10000/10000 [00:02<00:00, 4558.65it/s]\n",
      "100%|██████████| 10000/10000 [00:02<00:00, 4583.54it/s]\n",
      "100%|██████████| 10000/10000 [00:02<00:00, 4518.08it/s]\n",
      "100%|██████████| 10000/10000 [00:02<00:00, 4614.38it/s]\n",
      "100%|██████████| 10000/10000 [00:02<00:00, 4618.01it/s]\n",
      "100%|██████████| 10000/10000 [00:02<00:00, 4637.61it/s]\n",
      "  0%|          | 0/10000 [00:00<?, ?it/s]"
     ]
    },
    {
     "name": "stdout",
     "output_type": "stream",
     "text": [
      "Computing spastity:0.3, noise:0.1 ... \n"
     ]
    },
    {
     "name": "stderr",
     "output_type": "stream",
     "text": [
      "100%|██████████| 10000/10000 [00:02<00:00, 4401.46it/s]\n",
      "100%|██████████| 10000/10000 [00:02<00:00, 4557.64it/s]\n",
      "100%|██████████| 10000/10000 [00:02<00:00, 4601.33it/s]\n",
      "100%|██████████| 10000/10000 [00:02<00:00, 4611.70it/s]\n",
      "100%|██████████| 10000/10000 [00:02<00:00, 4465.09it/s]\n",
      "100%|██████████| 10000/10000 [00:02<00:00, 4256.74it/s]\n",
      "100%|██████████| 10000/10000 [00:02<00:00, 4010.26it/s]\n",
      "100%|██████████| 10000/10000 [00:02<00:00, 3924.85it/s]\n",
      "100%|██████████| 10000/10000 [00:02<00:00, 4145.62it/s]\n",
      "100%|██████████| 10000/10000 [00:02<00:00, 4188.50it/s]\n",
      "  0%|          | 0/10000 [00:00<?, ?it/s]"
     ]
    },
    {
     "name": "stdout",
     "output_type": "stream",
     "text": [
      "Computing spastity:0.3, noise:0.5 ... \n"
     ]
    },
    {
     "name": "stderr",
     "output_type": "stream",
     "text": [
      "100%|██████████| 10000/10000 [00:02<00:00, 4552.13it/s]\n",
      "100%|██████████| 10000/10000 [00:02<00:00, 4469.69it/s]\n",
      "100%|██████████| 10000/10000 [00:02<00:00, 4540.96it/s]\n",
      "100%|██████████| 10000/10000 [00:02<00:00, 4558.98it/s]\n",
      "100%|██████████| 10000/10000 [00:02<00:00, 4536.18it/s]\n",
      "100%|██████████| 10000/10000 [00:02<00:00, 4545.07it/s]\n",
      "100%|██████████| 10000/10000 [00:02<00:00, 4466.83it/s]\n",
      "100%|██████████| 10000/10000 [00:02<00:00, 4538.40it/s]\n",
      "100%|██████████| 10000/10000 [00:02<00:00, 4540.95it/s]\n",
      "100%|██████████| 10000/10000 [00:02<00:00, 4589.28it/s]\n",
      "  0%|          | 0/10000 [00:00<?, ?it/s]"
     ]
    },
    {
     "name": "stdout",
     "output_type": "stream",
     "text": [
      "Computing spastity:0.3, noise:1 ... \n"
     ]
    },
    {
     "name": "stderr",
     "output_type": "stream",
     "text": [
      "100%|██████████| 10000/10000 [00:02<00:00, 4469.26it/s]\n",
      "100%|██████████| 10000/10000 [00:02<00:00, 4538.94it/s]\n",
      "100%|██████████| 10000/10000 [00:02<00:00, 4581.57it/s]\n",
      "100%|██████████| 10000/10000 [00:02<00:00, 4554.34it/s]\n",
      "100%|██████████| 10000/10000 [00:02<00:00, 4473.90it/s]\n",
      "100%|██████████| 10000/10000 [00:02<00:00, 4566.90it/s]\n",
      "100%|██████████| 10000/10000 [00:02<00:00, 4580.47it/s]\n",
      "100%|██████████| 10000/10000 [00:02<00:00, 4552.81it/s]\n",
      "100%|██████████| 10000/10000 [00:02<00:00, 4554.42it/s]\n",
      "100%|██████████| 10000/10000 [00:02<00:00, 4499.10it/s]\n",
      "  0%|          | 0/10000 [00:00<?, ?it/s]"
     ]
    },
    {
     "name": "stdout",
     "output_type": "stream",
     "text": [
      "Computing spastity:0.3, noise:2 ... \n"
     ]
    },
    {
     "name": "stderr",
     "output_type": "stream",
     "text": [
      "100%|██████████| 10000/10000 [00:02<00:00, 4543.44it/s]\n",
      "100%|██████████| 10000/10000 [00:02<00:00, 4552.75it/s]\n",
      "100%|██████████| 10000/10000 [00:02<00:00, 4552.79it/s]\n",
      "100%|██████████| 10000/10000 [00:02<00:00, 4556.97it/s]\n",
      "100%|██████████| 10000/10000 [00:02<00:00, 4534.38it/s]\n",
      "100%|██████████| 10000/10000 [00:02<00:00, 4530.89it/s]\n",
      "100%|██████████| 10000/10000 [00:02<00:00, 4511.50it/s]\n",
      "100%|██████████| 10000/10000 [00:02<00:00, 4500.13it/s]\n",
      "100%|██████████| 10000/10000 [00:02<00:00, 4437.84it/s]\n",
      "100%|██████████| 10000/10000 [00:02<00:00, 4447.54it/s]\n",
      "  0%|          | 0/10000 [00:00<?, ?it/s]"
     ]
    },
    {
     "name": "stdout",
     "output_type": "stream",
     "text": [
      "Computing spastity:0.4, noise:0 ... \n"
     ]
    },
    {
     "name": "stderr",
     "output_type": "stream",
     "text": [
      "100%|██████████| 10000/10000 [00:02<00:00, 4546.74it/s]\n",
      "100%|██████████| 10000/10000 [00:02<00:00, 4608.08it/s]\n",
      "100%|██████████| 10000/10000 [00:02<00:00, 4494.81it/s]\n",
      "100%|██████████| 10000/10000 [00:02<00:00, 4513.15it/s]\n",
      "100%|██████████| 10000/10000 [00:02<00:00, 4498.29it/s]\n",
      "100%|██████████| 10000/10000 [00:02<00:00, 4397.60it/s]\n",
      "100%|██████████| 10000/10000 [00:02<00:00, 4538.04it/s]\n",
      "100%|██████████| 10000/10000 [00:02<00:00, 4578.58it/s]\n",
      "100%|██████████| 10000/10000 [00:02<00:00, 4554.41it/s]\n",
      "100%|██████████| 10000/10000 [00:02<00:00, 4560.13it/s]\n",
      "  0%|          | 0/10000 [00:00<?, ?it/s]"
     ]
    },
    {
     "name": "stdout",
     "output_type": "stream",
     "text": [
      "Computing spastity:0.4, noise:0.1 ... \n"
     ]
    },
    {
     "name": "stderr",
     "output_type": "stream",
     "text": [
      "100%|██████████| 10000/10000 [00:02<00:00, 4534.04it/s]\n",
      "100%|██████████| 10000/10000 [00:02<00:00, 4489.78it/s]\n",
      "100%|██████████| 10000/10000 [00:02<00:00, 4522.20it/s]\n",
      "100%|██████████| 10000/10000 [00:02<00:00, 4499.18it/s]\n",
      "100%|██████████| 10000/10000 [00:02<00:00, 4563.58it/s]\n",
      "100%|██████████| 10000/10000 [00:02<00:00, 4539.61it/s]\n",
      "100%|██████████| 10000/10000 [00:02<00:00, 4570.85it/s]\n",
      "100%|██████████| 10000/10000 [00:02<00:00, 4551.40it/s]\n",
      "100%|██████████| 10000/10000 [00:02<00:00, 4595.45it/s]\n",
      "100%|██████████| 10000/10000 [00:02<00:00, 4542.95it/s]\n",
      "  0%|          | 0/10000 [00:00<?, ?it/s]"
     ]
    },
    {
     "name": "stdout",
     "output_type": "stream",
     "text": [
      "Computing spastity:0.4, noise:0.5 ... \n"
     ]
    },
    {
     "name": "stderr",
     "output_type": "stream",
     "text": [
      "100%|██████████| 10000/10000 [00:02<00:00, 4506.40it/s]\n",
      "100%|██████████| 10000/10000 [00:02<00:00, 4578.77it/s]\n",
      "100%|██████████| 10000/10000 [00:02<00:00, 4590.52it/s]\n",
      "100%|██████████| 10000/10000 [00:02<00:00, 4419.74it/s]\n",
      "100%|██████████| 10000/10000 [00:02<00:00, 4500.49it/s]\n",
      "100%|██████████| 10000/10000 [00:02<00:00, 4588.31it/s]\n",
      "100%|██████████| 10000/10000 [00:02<00:00, 4552.83it/s]\n",
      "100%|██████████| 10000/10000 [00:02<00:00, 4527.74it/s]\n",
      "100%|██████████| 10000/10000 [00:02<00:00, 4504.35it/s]\n",
      "100%|██████████| 10000/10000 [00:02<00:00, 4536.93it/s]\n",
      "  0%|          | 0/10000 [00:00<?, ?it/s]"
     ]
    },
    {
     "name": "stdout",
     "output_type": "stream",
     "text": [
      "Computing spastity:0.4, noise:1 ... \n"
     ]
    },
    {
     "name": "stderr",
     "output_type": "stream",
     "text": [
      "100%|██████████| 10000/10000 [00:02<00:00, 4552.41it/s]\n",
      "100%|██████████| 10000/10000 [00:02<00:00, 4514.07it/s]\n",
      "100%|██████████| 10000/10000 [00:02<00:00, 4520.87it/s]\n",
      "100%|██████████| 10000/10000 [00:02<00:00, 4502.05it/s]\n",
      "100%|██████████| 10000/10000 [00:02<00:00, 4557.79it/s]\n",
      "100%|██████████| 10000/10000 [00:02<00:00, 4549.99it/s]\n",
      "100%|██████████| 10000/10000 [00:02<00:00, 4487.34it/s]\n",
      "100%|██████████| 10000/10000 [00:02<00:00, 4439.05it/s]\n",
      "100%|██████████| 10000/10000 [00:02<00:00, 4556.48it/s]\n",
      "100%|██████████| 10000/10000 [00:02<00:00, 4555.61it/s]\n",
      "  0%|          | 0/10000 [00:00<?, ?it/s]"
     ]
    },
    {
     "name": "stdout",
     "output_type": "stream",
     "text": [
      "Computing spastity:0.4, noise:2 ... \n"
     ]
    },
    {
     "name": "stderr",
     "output_type": "stream",
     "text": [
      "100%|██████████| 10000/10000 [00:02<00:00, 4535.40it/s]\n",
      "100%|██████████| 10000/10000 [00:02<00:00, 4566.84it/s]\n",
      "100%|██████████| 10000/10000 [00:02<00:00, 4498.89it/s]\n",
      "100%|██████████| 10000/10000 [00:02<00:00, 4575.41it/s]\n",
      "100%|██████████| 10000/10000 [00:02<00:00, 4555.48it/s]\n",
      "100%|██████████| 10000/10000 [00:02<00:00, 4477.87it/s]\n",
      "100%|██████████| 10000/10000 [00:02<00:00, 4521.27it/s]\n",
      "100%|██████████| 10000/10000 [00:02<00:00, 4515.44it/s]\n",
      "100%|██████████| 10000/10000 [00:02<00:00, 4551.21it/s]\n",
      "100%|██████████| 10000/10000 [00:02<00:00, 4557.75it/s]\n",
      "  0%|          | 0/10000 [00:00<?, ?it/s]"
     ]
    },
    {
     "name": "stdout",
     "output_type": "stream",
     "text": [
      "Computing spastity:0.6, noise:0 ... \n"
     ]
    },
    {
     "name": "stderr",
     "output_type": "stream",
     "text": [
      "100%|██████████| 10000/10000 [00:02<00:00, 4490.80it/s]\n",
      "100%|██████████| 10000/10000 [00:02<00:00, 4569.29it/s]\n",
      "100%|██████████| 10000/10000 [00:02<00:00, 4497.23it/s]\n",
      "100%|██████████| 10000/10000 [00:02<00:00, 4607.97it/s]\n",
      "100%|██████████| 10000/10000 [00:02<00:00, 4503.48it/s]\n",
      "100%|██████████| 10000/10000 [00:02<00:00, 4552.39it/s]\n",
      "100%|██████████| 10000/10000 [00:02<00:00, 4534.69it/s]\n",
      "100%|██████████| 10000/10000 [00:02<00:00, 4477.36it/s]\n",
      "100%|██████████| 10000/10000 [00:02<00:00, 4512.46it/s]\n",
      "100%|██████████| 10000/10000 [00:02<00:00, 4437.15it/s]\n",
      "  0%|          | 0/10000 [00:00<?, ?it/s]"
     ]
    },
    {
     "name": "stdout",
     "output_type": "stream",
     "text": [
      "Computing spastity:0.6, noise:0.1 ... \n"
     ]
    },
    {
     "name": "stderr",
     "output_type": "stream",
     "text": [
      "100%|██████████| 10000/10000 [00:02<00:00, 4552.50it/s]\n",
      "100%|██████████| 10000/10000 [00:02<00:00, 4521.53it/s]\n",
      "100%|██████████| 10000/10000 [00:02<00:00, 4564.01it/s]\n",
      "100%|██████████| 10000/10000 [00:02<00:00, 4513.11it/s]\n",
      "100%|██████████| 10000/10000 [00:02<00:00, 4520.08it/s]\n",
      "100%|██████████| 10000/10000 [00:02<00:00, 4591.81it/s]\n",
      "100%|██████████| 10000/10000 [00:02<00:00, 4543.17it/s]\n",
      "100%|██████████| 10000/10000 [00:02<00:00, 4511.64it/s]\n",
      "100%|██████████| 10000/10000 [00:02<00:00, 4518.37it/s]\n",
      "100%|██████████| 10000/10000 [00:02<00:00, 4590.67it/s]\n",
      "  0%|          | 0/10000 [00:00<?, ?it/s]"
     ]
    },
    {
     "name": "stdout",
     "output_type": "stream",
     "text": [
      "Computing spastity:0.6, noise:0.5 ... \n"
     ]
    },
    {
     "name": "stderr",
     "output_type": "stream",
     "text": [
      "100%|██████████| 10000/10000 [00:02<00:00, 4519.37it/s]\n",
      "100%|██████████| 10000/10000 [00:02<00:00, 4542.50it/s]\n",
      "100%|██████████| 10000/10000 [00:02<00:00, 4439.37it/s]\n",
      "100%|██████████| 10000/10000 [00:02<00:00, 4529.60it/s]\n",
      "100%|██████████| 10000/10000 [00:02<00:00, 4575.42it/s]\n",
      "100%|██████████| 10000/10000 [00:02<00:00, 4559.17it/s]\n",
      "100%|██████████| 10000/10000 [00:02<00:00, 4580.15it/s]\n",
      "100%|██████████| 10000/10000 [00:02<00:00, 4378.07it/s]\n",
      "100%|██████████| 10000/10000 [00:02<00:00, 4572.81it/s]\n",
      "100%|██████████| 10000/10000 [00:02<00:00, 4563.92it/s]\n",
      "  0%|          | 0/10000 [00:00<?, ?it/s]"
     ]
    },
    {
     "name": "stdout",
     "output_type": "stream",
     "text": [
      "Computing spastity:0.6, noise:1 ... \n"
     ]
    },
    {
     "name": "stderr",
     "output_type": "stream",
     "text": [
      "100%|██████████| 10000/10000 [00:02<00:00, 4573.60it/s]\n",
      "100%|██████████| 10000/10000 [00:02<00:00, 4490.38it/s]\n",
      "100%|██████████| 10000/10000 [00:02<00:00, 4596.91it/s]\n",
      "100%|██████████| 10000/10000 [00:02<00:00, 4524.74it/s]\n",
      "100%|██████████| 10000/10000 [00:02<00:00, 4526.02it/s]\n",
      "100%|██████████| 10000/10000 [00:02<00:00, 4544.17it/s]\n",
      "100%|██████████| 10000/10000 [00:02<00:00, 4425.03it/s]\n",
      "100%|██████████| 10000/10000 [00:02<00:00, 4561.43it/s]\n",
      "100%|██████████| 10000/10000 [00:02<00:00, 4575.05it/s]\n",
      "100%|██████████| 10000/10000 [00:02<00:00, 4549.80it/s]\n",
      "  0%|          | 0/10000 [00:00<?, ?it/s]"
     ]
    },
    {
     "name": "stdout",
     "output_type": "stream",
     "text": [
      "Computing spastity:0.6, noise:2 ... \n"
     ]
    },
    {
     "name": "stderr",
     "output_type": "stream",
     "text": [
      "100%|██████████| 10000/10000 [00:02<00:00, 4532.85it/s]\n",
      "100%|██████████| 10000/10000 [00:02<00:00, 4508.18it/s]\n",
      "100%|██████████| 10000/10000 [00:02<00:00, 4546.01it/s]\n",
      "100%|██████████| 10000/10000 [00:02<00:00, 4553.62it/s]\n",
      "100%|██████████| 10000/10000 [00:02<00:00, 4534.97it/s]\n",
      "100%|██████████| 10000/10000 [00:02<00:00, 4573.05it/s]\n",
      "100%|██████████| 10000/10000 [00:02<00:00, 4594.17it/s]\n",
      "100%|██████████| 10000/10000 [00:02<00:00, 4564.67it/s]\n",
      "100%|██████████| 10000/10000 [00:02<00:00, 4547.57it/s]\n",
      "100%|██████████| 10000/10000 [00:02<00:00, 4413.49it/s]\n",
      "  0%|          | 0/10000 [00:00<?, ?it/s]"
     ]
    },
    {
     "name": "stdout",
     "output_type": "stream",
     "text": [
      "Computing spastity:0.8, noise:0 ... \n"
     ]
    },
    {
     "name": "stderr",
     "output_type": "stream",
     "text": [
      "100%|██████████| 10000/10000 [00:02<00:00, 4573.07it/s]\n",
      "100%|██████████| 10000/10000 [00:02<00:00, 4605.54it/s]\n",
      "100%|██████████| 10000/10000 [00:02<00:00, 4581.52it/s]\n",
      "100%|██████████| 10000/10000 [00:02<00:00, 4541.66it/s]\n",
      "100%|██████████| 10000/10000 [00:02<00:00, 4539.62it/s]\n",
      "100%|██████████| 10000/10000 [00:02<00:00, 4560.50it/s]\n",
      "100%|██████████| 10000/10000 [00:02<00:00, 4566.23it/s]\n",
      "100%|██████████| 10000/10000 [00:02<00:00, 4554.61it/s]\n",
      "100%|██████████| 10000/10000 [00:02<00:00, 4626.31it/s]\n",
      "100%|██████████| 10000/10000 [00:02<00:00, 4608.62it/s]\n",
      "  0%|          | 0/10000 [00:00<?, ?it/s]"
     ]
    },
    {
     "name": "stdout",
     "output_type": "stream",
     "text": [
      "Computing spastity:0.8, noise:0.1 ... \n"
     ]
    },
    {
     "name": "stderr",
     "output_type": "stream",
     "text": [
      "100%|██████████| 10000/10000 [00:02<00:00, 4573.93it/s]\n",
      "100%|██████████| 10000/10000 [00:02<00:00, 4557.50it/s]\n",
      "100%|██████████| 10000/10000 [00:02<00:00, 4527.85it/s]\n",
      "100%|██████████| 10000/10000 [00:02<00:00, 4533.47it/s]\n",
      "100%|██████████| 10000/10000 [00:02<00:00, 4588.19it/s]\n",
      "100%|██████████| 10000/10000 [00:02<00:00, 4517.66it/s]\n",
      "100%|██████████| 10000/10000 [00:02<00:00, 4519.62it/s]\n",
      "100%|██████████| 10000/10000 [00:02<00:00, 4501.93it/s]\n",
      "100%|██████████| 10000/10000 [00:02<00:00, 4462.79it/s]\n",
      "100%|██████████| 10000/10000 [00:02<00:00, 4504.71it/s]\n",
      "  0%|          | 0/10000 [00:00<?, ?it/s]"
     ]
    },
    {
     "name": "stdout",
     "output_type": "stream",
     "text": [
      "Computing spastity:0.8, noise:0.5 ... \n"
     ]
    },
    {
     "name": "stderr",
     "output_type": "stream",
     "text": [
      "100%|██████████| 10000/10000 [00:02<00:00, 4519.67it/s]\n",
      "100%|██████████| 10000/10000 [00:02<00:00, 4424.29it/s]\n",
      "100%|██████████| 10000/10000 [00:02<00:00, 4601.14it/s]\n",
      "100%|██████████| 10000/10000 [00:02<00:00, 4589.61it/s]\n",
      "100%|██████████| 10000/10000 [00:02<00:00, 4407.74it/s]\n",
      "100%|██████████| 10000/10000 [00:02<00:00, 4562.69it/s]\n",
      "100%|██████████| 10000/10000 [00:02<00:00, 4476.42it/s]\n",
      "100%|██████████| 10000/10000 [00:02<00:00, 4529.32it/s]\n",
      "100%|██████████| 10000/10000 [00:02<00:00, 4585.01it/s]\n",
      "100%|██████████| 10000/10000 [00:02<00:00, 4448.74it/s]\n",
      "  0%|          | 0/10000 [00:00<?, ?it/s]"
     ]
    },
    {
     "name": "stdout",
     "output_type": "stream",
     "text": [
      "Computing spastity:0.8, noise:1 ... \n"
     ]
    },
    {
     "name": "stderr",
     "output_type": "stream",
     "text": [
      "100%|██████████| 10000/10000 [00:02<00:00, 4512.54it/s]\n",
      "100%|██████████| 10000/10000 [00:02<00:00, 4533.68it/s]\n",
      "100%|██████████| 10000/10000 [00:02<00:00, 4511.56it/s]\n",
      "100%|██████████| 10000/10000 [00:02<00:00, 4582.57it/s]\n",
      "100%|██████████| 10000/10000 [00:02<00:00, 4523.72it/s]\n",
      "100%|██████████| 10000/10000 [00:02<00:00, 4558.19it/s]\n",
      "100%|██████████| 10000/10000 [00:02<00:00, 4528.72it/s]\n",
      "100%|██████████| 10000/10000 [00:02<00:00, 4560.16it/s]\n",
      "100%|██████████| 10000/10000 [00:02<00:00, 4545.32it/s]\n",
      "100%|██████████| 10000/10000 [00:02<00:00, 4538.93it/s]\n",
      "  0%|          | 0/10000 [00:00<?, ?it/s]"
     ]
    },
    {
     "name": "stdout",
     "output_type": "stream",
     "text": [
      "Computing spastity:0.8, noise:2 ... \n"
     ]
    },
    {
     "name": "stderr",
     "output_type": "stream",
     "text": [
      "100%|██████████| 10000/10000 [00:02<00:00, 4503.74it/s]\n",
      "100%|██████████| 10000/10000 [00:02<00:00, 4508.45it/s]\n",
      "100%|██████████| 10000/10000 [00:02<00:00, 4544.49it/s]\n",
      "100%|██████████| 10000/10000 [00:02<00:00, 4522.27it/s]\n",
      "100%|██████████| 10000/10000 [00:02<00:00, 4562.95it/s]\n",
      "100%|██████████| 10000/10000 [00:02<00:00, 4547.91it/s]\n",
      "100%|██████████| 10000/10000 [00:02<00:00, 4591.95it/s]\n",
      "100%|██████████| 10000/10000 [00:02<00:00, 4426.28it/s]\n",
      "100%|██████████| 10000/10000 [00:02<00:00, 4485.82it/s]\n",
      "100%|██████████| 10000/10000 [00:02<00:00, 4622.15it/s]\n"
     ]
    }
   ],
   "source": [
    "eta_l = 0.0001 # LEARNING RATE\n",
    "n_rounds = 10 # AMOUNT OF LEARNING\n",
    "\n",
    "sparsitites = [0.1,0.2,0.3,0.4,0.6,0.8]\n",
    "noise_levels = [0,0.1,0.5,1,2]\n",
    "\n",
    "CA1_data = {'sparsity':[],\n",
    "            'noise_level':[],\n",
    "            'initial_connectivity':[],\n",
    "            'trained_connectivity':[],\n",
    "            'pfc_distances':[],\n",
    "            'retr_correlations':[]}\n",
    "\n",
    "\n",
    "for spars,noise in product(sparsitites,noise_levels):\n",
    "        print(f\"Computing spastity:{spars}, noise:{noise} ... \")\n",
    "        CA1_data['sparsity'].append(spars)\n",
    "        CA1_data['noise_level'].append(noise)\n",
    "        \n",
    "        # TRAINING\n",
    "\n",
    "        X_Grid, Y_Grid, X_Pf, Y_Pf, N_CA3 = BuildEnvironment(L=100,CA3_Dens=10,Samp_Dens=1)\n",
    "        XY_Coor = np.vstack((X_Grid.flatten(), Y_Grid.flatten())).T \n",
    "        XY_DD = pdist(XY_Coor)\n",
    "        N_CA1 = N_CA3 * 3\n",
    "        Conn = Connections_Init(N_CA3,N_CA1)\n",
    "        \n",
    "        CA1_data['initial_connectivity'].append(Conn)\n",
    "\n",
    "        for l_round in range(n_rounds):\n",
    "            dw_tot = 0\n",
    "            #swipes the envirronment\n",
    "            for zz in tqdm(range(XY_Coor.shape[0])):\n",
    "                Act_XY = PlaceField(XY_Coor[zz][0],XY_Coor[zz][1],X_Pf.flatten(),Y_Pf.flatten())\n",
    "                Act_XY = Add_Noise(Act_XY,sigma=noise)\n",
    "                CA1_Act = Act_XY@Conn\n",
    "                CA1_Time = Normalize_Activity(CA1_Act,sparsity=spars)\n",
    "\n",
    "                Pre = Act_XY[:,np.newaxis]\n",
    "                Post = CA1_Time[:,np.newaxis]\n",
    "\n",
    "                dw_tot += Compute_Plasticity(Pre,Post,eta=eta_l)\n",
    "\n",
    "            Conn = Apply_Plasticity(Conn,dw_tot)\n",
    "        \n",
    "        CA1_data['trained_connectivity'].append(Conn)\n",
    "\n",
    "        \n",
    "\n",
    "        # TESTING: why is the initialization different?\n",
    "\n",
    "        X_Grid, Y_Grid, X_Pf, Y_Pf, N_CA3 = BuildEnvironment(L=100,CA3_Dens=10,Samp_Dens=10)\n",
    "        XY_Coor = np.vstack((X_Grid.flatten(), Y_Grid.flatten())).T \n",
    "        XY_DD = pdist(XY_Coor)\n",
    "        N_CA1 = N_CA3 * 3\n",
    "\n",
    "\n",
    "        CA1_Out = np.zeros((XY_Coor.shape[0],N_CA1)) \n",
    "        for zz in range(XY_Coor.shape[0]):\n",
    "            Act_XY = PlaceField(XY_Coor[zz][0],XY_Coor[zz][1],X_Pf.flatten(),Y_Pf.flatten())\n",
    "            CA1_Act = Act_XY@Conn\n",
    "\n",
    "\n",
    "            CA1_Out[zz,:] = Normalize_Activity(CA1_Act,sparsity=spars)\n",
    "\n",
    "\n",
    "        CA1_DD = 1 - pdist(CA1_Out,metric='correlation')\n",
    "\n",
    "        CA1_data['pfc_distances'].append(XY_DD)\n",
    "        CA1_data['retr_correlations'].append(CA1_DD)\n",
    "\n",
    "\n",
    "CA3_Out = np.zeros((XY_Coor.shape[0],N_CA3)) \n",
    "for zz in range(XY_Coor.shape[0]):\n",
    "    CA3_Out[zz,:] = PlaceField(XY_Coor[zz][0],XY_Coor[zz][1],X_Pf.flatten(),Y_Pf.flatten())\n",
    "XY_DD = pdist(XY_Coor)\n",
    "CA3_DD = 1 - pdist(CA3_Out,metric='correlation')\n",
    "\n",
    "CA3_data = {'pfc_distances':XY_DD,'correlations':CA3_DD}\n"
   ]
  },
  {
   "cell_type": "code",
   "execution_count": 47,
   "id": "0d2dcf46",
   "metadata": {},
   "outputs": [],
   "source": [
    "# save output to file\n",
    "out_file_path = 'processed_data/CA1_data_noisy_learning.pickle'\n",
    "with open(out_file_path, 'wb') as handle:\n",
    "    pickle.dump(CA1_data, handle)\n",
    "\n",
    "out_file_path = 'processed_data/CA3_data_noisy_learning.pickle'\n",
    "with open(out_file_path, 'wb') as handle:\n",
    "    pickle.dump(CA3_data, handle)\n"
   ]
  },
  {
   "cell_type": "code",
   "execution_count": 58,
   "id": "76fc88b0",
   "metadata": {},
   "outputs": [
    {
     "data": {
      "text/plain": [
       "<matplotlib.legend.Legend at 0x7fcdf1d46be0>"
      ]
     },
     "execution_count": 58,
     "metadata": {},
     "output_type": "execute_result"
    },
    {
     "data": {
      "image/png": "[encoded data removed]",
      "text/plain": [
       "<Figure size 288x288 with 1 Axes>"
      ]
     },
     "metadata": {
      "needs_background": "light"
     },
     "output_type": "display_data"
    }
   ],
   "source": [
    "plt.figure(figsize=(4,4))\n",
    "plt.xlabel(\"sparsity (fraction active neurons)\")\n",
    "plt.ylabel(\"Correlation\")\n",
    "\n",
    "for noise in noise_levels:\n",
    "    idxs = np.where(np.asarray(CA1_data['noise_level'])==noise)\n",
    "    sparsitites = np.asarray(CA1_data['sparsity'])[idxs]\n",
    "    correlations = np.asarray(CA1_data['retr_correlations'])[idxs]\n",
    "    distances = np.asarray(CA1_data['pfc_distances'])[idxs]\n",
    "    binned_corr = []\n",
    "    for i,CA1_DD in enumerate(correlations):\n",
    "        binned_corr.append(binned_statistic(distances[i],CA1_DD,statistic='mean',bins=10)[0])\n",
    "    min_corr_l = [min(i) for i in binned_corr]\n",
    "    \n",
    "    plt.plot(sparsitites,min_corr_l,label=f'noise: {noise}')\n",
    "\n",
    "# CA3\n",
    "binned_corr = binned_statistic(CA3_data['pfc_distances'],CA3_data['correlations'],statistic='mean',bins=10)[0]\n",
    "plt.axhline(y=min(binned_corr),linestyle='--',linewidth=3,c='k',label='CA3')\n",
    "\n",
    "plt.legend()\n"
   ]
  },
  {
   "cell_type": "markdown",
   "id": "3f28385d",
   "metadata": {},
   "source": [
    "# Noisy retrieval"
   ]
  },
  {
   "cell_type": "code",
   "execution_count": 59,
   "id": "upper-token",
   "metadata": {},
   "outputs": [
    {
     "name": "stderr",
     "output_type": "stream",
     "text": [
      "  0%|          | 0/10000 [00:00<?, ?it/s]"
     ]
    },
    {
     "name": "stdout",
     "output_type": "stream",
     "text": [
      "Computing spastity:0.1, noise:0 ... \n"
     ]
    },
    {
     "name": "stderr",
     "output_type": "stream",
     "text": [
      "100%|██████████| 10000/10000 [00:02<00:00, 4261.58it/s]\n",
      "<ipython-input-2-d17828731205>:45: RuntimeWarning: invalid value encountered in true_divide\n",
      "  Conn = Conn/np.linalg.norm(Conn,axis=0,ord=1)\n",
      "100%|██████████| 10000/10000 [00:02<00:00, 4290.80it/s]\n",
      "100%|██████████| 10000/10000 [00:02<00:00, 3980.11it/s]\n",
      "100%|██████████| 10000/10000 [00:02<00:00, 4484.37it/s]\n",
      "100%|██████████| 10000/10000 [00:02<00:00, 4375.66it/s]\n",
      "100%|██████████| 10000/10000 [00:02<00:00, 4235.24it/s]\n",
      "100%|██████████| 10000/10000 [00:02<00:00, 4136.76it/s]\n",
      "100%|██████████| 10000/10000 [00:02<00:00, 4689.33it/s]\n",
      "100%|██████████| 10000/10000 [00:02<00:00, 4574.89it/s]\n",
      "100%|██████████| 10000/10000 [00:02<00:00, 4267.27it/s]\n",
      "  0%|          | 0/10000 [00:00<?, ?it/s]"
     ]
    },
    {
     "name": "stdout",
     "output_type": "stream",
     "text": [
      "Computing spastity:0.1, noise:0.1 ... \n"
     ]
    },
    {
     "name": "stderr",
     "output_type": "stream",
     "text": [
      "100%|██████████| 10000/10000 [00:02<00:00, 4324.32it/s]\n",
      "100%|██████████| 10000/10000 [00:02<00:00, 4439.63it/s]\n",
      "100%|██████████| 10000/10000 [00:02<00:00, 4665.32it/s]\n",
      "100%|██████████| 10000/10000 [00:02<00:00, 4740.77it/s]\n",
      "100%|██████████| 10000/10000 [00:02<00:00, 4773.72it/s]\n",
      "100%|██████████| 10000/10000 [00:02<00:00, 4783.79it/s]\n",
      "100%|██████████| 10000/10000 [00:02<00:00, 4754.90it/s]\n",
      "100%|██████████| 10000/10000 [00:02<00:00, 4747.51it/s]\n",
      "100%|██████████| 10000/10000 [00:02<00:00, 4633.08it/s]\n",
      "100%|██████████| 10000/10000 [00:02<00:00, 4311.22it/s]\n",
      "  0%|          | 0/10000 [00:00<?, ?it/s]"
     ]
    },
    {
     "name": "stdout",
     "output_type": "stream",
     "text": [
      "Computing spastity:0.1, noise:0.5 ... \n"
     ]
    },
    {
     "name": "stderr",
     "output_type": "stream",
     "text": [
      "100%|██████████| 10000/10000 [00:02<00:00, 4204.37it/s]\n",
      "100%|██████████| 10000/10000 [00:02<00:00, 4152.78it/s]\n",
      "100%|██████████| 10000/10000 [00:02<00:00, 3926.29it/s]\n",
      "100%|██████████| 10000/10000 [00:02<00:00, 4251.28it/s]\n",
      "100%|██████████| 10000/10000 [00:02<00:00, 4349.15it/s]\n",
      "100%|██████████| 10000/10000 [00:02<00:00, 4785.18it/s]\n",
      "100%|██████████| 10000/10000 [00:02<00:00, 4637.70it/s]\n",
      "100%|██████████| 10000/10000 [00:02<00:00, 4444.60it/s]\n",
      "100%|██████████| 10000/10000 [00:02<00:00, 4464.06it/s]\n",
      "100%|██████████| 10000/10000 [00:02<00:00, 4357.96it/s]\n",
      "  0%|          | 0/10000 [00:00<?, ?it/s]"
     ]
    },
    {
     "name": "stdout",
     "output_type": "stream",
     "text": [
      "Computing spastity:0.1, noise:1 ... \n"
     ]
    },
    {
     "name": "stderr",
     "output_type": "stream",
     "text": [
      "100%|██████████| 10000/10000 [00:02<00:00, 4348.43it/s]\n",
      "100%|██████████| 10000/10000 [00:02<00:00, 4628.89it/s]\n",
      "100%|██████████| 10000/10000 [00:02<00:00, 4359.97it/s]\n",
      "100%|██████████| 10000/10000 [00:02<00:00, 4386.01it/s]\n",
      "100%|██████████| 10000/10000 [00:02<00:00, 4467.56it/s]\n",
      "100%|██████████| 10000/10000 [00:02<00:00, 4516.72it/s]\n",
      "100%|██████████| 10000/10000 [00:02<00:00, 4662.86it/s]\n",
      "100%|██████████| 10000/10000 [00:02<00:00, 4473.42it/s]\n",
      "100%|██████████| 10000/10000 [00:02<00:00, 4222.64it/s]\n",
      "100%|██████████| 10000/10000 [00:02<00:00, 4026.46it/s]\n",
      "  0%|          | 0/10000 [00:00<?, ?it/s]"
     ]
    },
    {
     "name": "stdout",
     "output_type": "stream",
     "text": [
      "Computing spastity:0.1, noise:2 ... \n"
     ]
    },
    {
     "name": "stderr",
     "output_type": "stream",
     "text": [
      "100%|██████████| 10000/10000 [00:02<00:00, 4404.65it/s]\n",
      "100%|██████████| 10000/10000 [00:02<00:00, 4122.32it/s]\n",
      "100%|██████████| 10000/10000 [00:02<00:00, 4349.37it/s]\n",
      "100%|██████████| 10000/10000 [00:02<00:00, 4171.98it/s]\n",
      "100%|██████████| 10000/10000 [00:02<00:00, 4094.65it/s]\n",
      "100%|██████████| 10000/10000 [00:02<00:00, 4185.54it/s]\n",
      "100%|██████████| 10000/10000 [00:02<00:00, 4352.71it/s]\n",
      "100%|██████████| 10000/10000 [00:02<00:00, 4204.34it/s]\n",
      "100%|██████████| 10000/10000 [00:02<00:00, 4395.58it/s]\n",
      "100%|██████████| 10000/10000 [00:02<00:00, 4596.20it/s]\n",
      "  0%|          | 0/10000 [00:00<?, ?it/s]"
     ]
    },
    {
     "name": "stdout",
     "output_type": "stream",
     "text": [
      "Computing spastity:0.2, noise:0 ... \n"
     ]
    },
    {
     "name": "stderr",
     "output_type": "stream",
     "text": [
      "100%|██████████| 10000/10000 [00:02<00:00, 4571.71it/s]\n",
      "100%|██████████| 10000/10000 [00:02<00:00, 4607.32it/s]\n",
      "100%|██████████| 10000/10000 [00:02<00:00, 4523.71it/s]\n",
      "100%|██████████| 10000/10000 [00:02<00:00, 4265.30it/s]\n",
      "100%|██████████| 10000/10000 [00:02<00:00, 4522.67it/s]\n",
      "100%|██████████| 10000/10000 [00:02<00:00, 4207.42it/s]\n",
      "100%|██████████| 10000/10000 [00:02<00:00, 4435.01it/s]\n",
      "100%|██████████| 10000/10000 [00:02<00:00, 4593.59it/s]\n",
      "100%|██████████| 10000/10000 [00:02<00:00, 4462.12it/s]\n",
      "100%|██████████| 10000/10000 [00:02<00:00, 4472.82it/s]\n",
      "  0%|          | 0/10000 [00:00<?, ?it/s]"
     ]
    },
    {
     "name": "stdout",
     "output_type": "stream",
     "text": [
      "Computing spastity:0.2, noise:0.1 ... \n"
     ]
    },
    {
     "name": "stderr",
     "output_type": "stream",
     "text": [
      "100%|██████████| 10000/10000 [00:02<00:00, 4679.08it/s]\n",
      "100%|██████████| 10000/10000 [00:02<00:00, 4452.37it/s]\n",
      "100%|██████████| 10000/10000 [00:02<00:00, 4486.69it/s]\n",
      "100%|██████████| 10000/10000 [00:02<00:00, 4507.46it/s]\n",
      "100%|██████████| 10000/10000 [00:02<00:00, 4574.08it/s]\n",
      "100%|██████████| 10000/10000 [00:02<00:00, 4312.81it/s]\n",
      "100%|██████████| 10000/10000 [00:02<00:00, 4165.72it/s]\n",
      "100%|██████████| 10000/10000 [00:02<00:00, 4403.94it/s]\n",
      "100%|██████████| 10000/10000 [00:02<00:00, 4730.31it/s]\n",
      "100%|██████████| 10000/10000 [00:02<00:00, 4740.39it/s]\n",
      "  0%|          | 0/10000 [00:00<?, ?it/s]"
     ]
    },
    {
     "name": "stdout",
     "output_type": "stream",
     "text": [
      "Computing spastity:0.2, noise:0.5 ... \n"
     ]
    },
    {
     "name": "stderr",
     "output_type": "stream",
     "text": [
      "100%|██████████| 10000/10000 [00:02<00:00, 4725.40it/s]\n",
      "100%|██████████| 10000/10000 [00:02<00:00, 4465.16it/s]\n",
      "100%|██████████| 10000/10000 [00:02<00:00, 4636.42it/s]\n",
      "100%|██████████| 10000/10000 [00:02<00:00, 4738.84it/s]\n",
      "100%|██████████| 10000/10000 [00:02<00:00, 4651.73it/s]\n",
      "100%|██████████| 10000/10000 [00:02<00:00, 4685.40it/s]\n",
      "100%|██████████| 10000/10000 [00:02<00:00, 4702.51it/s]\n",
      "100%|██████████| 10000/10000 [00:02<00:00, 4732.21it/s]\n",
      "100%|██████████| 10000/10000 [00:02<00:00, 4720.59it/s]\n",
      "100%|██████████| 10000/10000 [00:02<00:00, 4599.03it/s]\n",
      "  0%|          | 0/10000 [00:00<?, ?it/s]"
     ]
    },
    {
     "name": "stdout",
     "output_type": "stream",
     "text": [
      "Computing spastity:0.2, noise:1 ... \n"
     ]
    },
    {
     "name": "stderr",
     "output_type": "stream",
     "text": [
      "100%|██████████| 10000/10000 [00:02<00:00, 4714.55it/s]\n",
      "100%|██████████| 10000/10000 [00:02<00:00, 4726.73it/s]\n",
      "100%|██████████| 10000/10000 [00:02<00:00, 4729.01it/s]\n",
      "100%|██████████| 10000/10000 [00:02<00:00, 4654.35it/s]\n",
      "100%|██████████| 10000/10000 [00:02<00:00, 4696.43it/s]\n",
      "100%|██████████| 10000/10000 [00:02<00:00, 4696.33it/s]\n",
      "100%|██████████| 10000/10000 [00:02<00:00, 4702.70it/s]\n",
      "100%|██████████| 10000/10000 [00:02<00:00, 4690.65it/s]\n",
      "100%|██████████| 10000/10000 [00:02<00:00, 4644.09it/s]\n",
      "100%|██████████| 10000/10000 [00:02<00:00, 4700.01it/s]\n",
      "  0%|          | 0/10000 [00:00<?, ?it/s]"
     ]
    },
    {
     "name": "stdout",
     "output_type": "stream",
     "text": [
      "Computing spastity:0.2, noise:2 ... \n"
     ]
    },
    {
     "name": "stderr",
     "output_type": "stream",
     "text": [
      "100%|██████████| 10000/10000 [00:02<00:00, 4723.07it/s]\n",
      "100%|██████████| 10000/10000 [00:02<00:00, 4720.92it/s]\n",
      "100%|██████████| 10000/10000 [00:02<00:00, 4695.18it/s]\n",
      "100%|██████████| 10000/10000 [00:02<00:00, 4627.68it/s]\n",
      "100%|██████████| 10000/10000 [00:02<00:00, 4602.83it/s]\n",
      "100%|██████████| 10000/10000 [00:02<00:00, 4606.55it/s]\n",
      "100%|██████████| 10000/10000 [00:02<00:00, 4758.41it/s]\n",
      "100%|██████████| 10000/10000 [00:02<00:00, 4672.10it/s]\n",
      "100%|██████████| 10000/10000 [00:02<00:00, 4753.28it/s]\n",
      "100%|██████████| 10000/10000 [00:02<00:00, 4687.03it/s]\n",
      "  0%|          | 0/10000 [00:00<?, ?it/s]"
     ]
    },
    {
     "name": "stdout",
     "output_type": "stream",
     "text": [
      "Computing spastity:0.3, noise:0 ... \n"
     ]
    },
    {
     "name": "stderr",
     "output_type": "stream",
     "text": [
      "100%|██████████| 10000/10000 [00:02<00:00, 4677.55it/s]\n",
      "100%|██████████| 10000/10000 [00:02<00:00, 4719.89it/s]\n",
      "100%|██████████| 10000/10000 [00:02<00:00, 4543.69it/s]\n",
      "100%|██████████| 10000/10000 [00:02<00:00, 4639.35it/s]\n",
      "100%|██████████| 10000/10000 [00:02<00:00, 4699.92it/s]\n",
      "100%|██████████| 10000/10000 [00:02<00:00, 4703.32it/s]\n",
      "100%|██████████| 10000/10000 [00:02<00:00, 4672.22it/s]\n",
      "100%|██████████| 10000/10000 [00:02<00:00, 4750.65it/s]\n",
      "100%|██████████| 10000/10000 [00:02<00:00, 4689.26it/s]\n",
      "100%|██████████| 10000/10000 [00:02<00:00, 4621.43it/s]\n",
      "  0%|          | 0/10000 [00:00<?, ?it/s]"
     ]
    },
    {
     "name": "stdout",
     "output_type": "stream",
     "text": [
      "Computing spastity:0.3, noise:0.1 ... \n"
     ]
    },
    {
     "name": "stderr",
     "output_type": "stream",
     "text": [
      "100%|██████████| 10000/10000 [00:02<00:00, 4703.70it/s]\n",
      "100%|██████████| 10000/10000 [00:02<00:00, 4602.48it/s]\n",
      "100%|██████████| 10000/10000 [00:02<00:00, 4743.89it/s]\n",
      "100%|██████████| 10000/10000 [00:02<00:00, 4744.25it/s]\n",
      "100%|██████████| 10000/10000 [00:02<00:00, 4693.02it/s]\n",
      "100%|██████████| 10000/10000 [00:02<00:00, 4708.60it/s]\n",
      "100%|██████████| 10000/10000 [00:02<00:00, 4669.13it/s]\n",
      "100%|██████████| 10000/10000 [00:02<00:00, 4694.15it/s]\n",
      "100%|██████████| 10000/10000 [00:02<00:00, 4240.92it/s]\n",
      "100%|██████████| 10000/10000 [00:02<00:00, 4694.03it/s]\n",
      "  0%|          | 0/10000 [00:00<?, ?it/s]"
     ]
    },
    {
     "name": "stdout",
     "output_type": "stream",
     "text": [
      "Computing spastity:0.3, noise:0.5 ... \n"
     ]
    },
    {
     "name": "stderr",
     "output_type": "stream",
     "text": [
      "100%|██████████| 10000/10000 [00:02<00:00, 4247.53it/s]\n",
      "100%|██████████| 10000/10000 [00:02<00:00, 4825.08it/s]\n",
      "100%|██████████| 10000/10000 [00:02<00:00, 4575.84it/s]\n",
      "100%|██████████| 10000/10000 [00:02<00:00, 4625.95it/s]\n",
      "100%|██████████| 10000/10000 [00:02<00:00, 4505.13it/s]\n",
      "100%|██████████| 10000/10000 [00:02<00:00, 4468.45it/s]\n",
      "100%|██████████| 10000/10000 [00:02<00:00, 4593.79it/s]\n",
      "100%|██████████| 10000/10000 [00:02<00:00, 4443.45it/s]\n",
      "100%|██████████| 10000/10000 [00:02<00:00, 4625.36it/s]\n",
      "100%|██████████| 10000/10000 [00:02<00:00, 4620.31it/s]\n",
      "  0%|          | 0/10000 [00:00<?, ?it/s]"
     ]
    },
    {
     "name": "stdout",
     "output_type": "stream",
     "text": [
      "Computing spastity:0.3, noise:1 ... \n"
     ]
    },
    {
     "name": "stderr",
     "output_type": "stream",
     "text": [
      "100%|██████████| 10000/10000 [00:02<00:00, 4759.18it/s]\n",
      "100%|██████████| 10000/10000 [00:02<00:00, 4801.52it/s]\n",
      "100%|██████████| 10000/10000 [00:02<00:00, 4431.24it/s]\n",
      "100%|██████████| 10000/10000 [00:02<00:00, 4691.95it/s]\n",
      "100%|██████████| 10000/10000 [00:02<00:00, 4757.67it/s]\n",
      "100%|██████████| 10000/10000 [00:02<00:00, 4794.92it/s]\n",
      "100%|██████████| 10000/10000 [00:02<00:00, 4664.15it/s]\n",
      "100%|██████████| 10000/10000 [00:02<00:00, 4731.54it/s]\n",
      "100%|██████████| 10000/10000 [00:02<00:00, 4495.96it/s]\n",
      "100%|██████████| 10000/10000 [00:02<00:00, 4628.50it/s]\n",
      "  0%|          | 0/10000 [00:00<?, ?it/s]"
     ]
    },
    {
     "name": "stdout",
     "output_type": "stream",
     "text": [
      "Computing spastity:0.3, noise:2 ... \n"
     ]
    },
    {
     "name": "stderr",
     "output_type": "stream",
     "text": [
      "100%|██████████| 10000/10000 [00:02<00:00, 4635.08it/s]\n",
      "100%|██████████| 10000/10000 [00:02<00:00, 4548.18it/s]\n",
      "100%|██████████| 10000/10000 [00:02<00:00, 4402.50it/s]\n",
      "100%|██████████| 10000/10000 [00:02<00:00, 4174.86it/s]\n",
      "100%|██████████| 10000/10000 [00:02<00:00, 4548.50it/s]\n",
      "100%|██████████| 10000/10000 [00:02<00:00, 4526.53it/s]\n",
      "100%|██████████| 10000/10000 [00:02<00:00, 4528.02it/s]\n",
      "100%|██████████| 10000/10000 [00:02<00:00, 4548.84it/s]\n",
      "100%|██████████| 10000/10000 [00:02<00:00, 4489.34it/s]\n",
      "100%|██████████| 10000/10000 [00:02<00:00, 4613.36it/s]\n",
      "  0%|          | 0/10000 [00:00<?, ?it/s]"
     ]
    },
    {
     "name": "stdout",
     "output_type": "stream",
     "text": [
      "Computing spastity:0.4, noise:0 ... \n"
     ]
    },
    {
     "name": "stderr",
     "output_type": "stream",
     "text": [
      "100%|██████████| 10000/10000 [00:02<00:00, 4006.79it/s]\n",
      "100%|██████████| 10000/10000 [00:02<00:00, 4254.62it/s]\n",
      "100%|██████████| 10000/10000 [00:02<00:00, 4720.57it/s]\n",
      "100%|██████████| 10000/10000 [00:02<00:00, 4572.06it/s]\n",
      "100%|██████████| 10000/10000 [00:02<00:00, 4332.89it/s]\n",
      "100%|██████████| 10000/10000 [00:02<00:00, 4374.39it/s]\n",
      "100%|██████████| 10000/10000 [00:02<00:00, 4275.28it/s]\n",
      "100%|██████████| 10000/10000 [00:02<00:00, 4378.62it/s]\n",
      "100%|██████████| 10000/10000 [00:02<00:00, 4250.60it/s]\n",
      "100%|██████████| 10000/10000 [00:02<00:00, 4594.98it/s]\n",
      "  0%|          | 0/10000 [00:00<?, ?it/s]"
     ]
    },
    {
     "name": "stdout",
     "output_type": "stream",
     "text": [
      "Computing spastity:0.4, noise:0.1 ... \n"
     ]
    },
    {
     "name": "stderr",
     "output_type": "stream",
     "text": [
      "100%|██████████| 10000/10000 [00:02<00:00, 4359.42it/s]\n",
      "100%|██████████| 10000/10000 [00:02<00:00, 4484.65it/s]\n",
      "100%|██████████| 10000/10000 [00:02<00:00, 4391.17it/s]\n",
      "100%|██████████| 10000/10000 [00:02<00:00, 4194.94it/s]\n",
      "100%|██████████| 10000/10000 [00:02<00:00, 4437.92it/s]\n",
      "100%|██████████| 10000/10000 [00:02<00:00, 4476.18it/s]\n",
      "100%|██████████| 10000/10000 [00:02<00:00, 4450.32it/s]\n",
      "100%|██████████| 10000/10000 [00:02<00:00, 4514.40it/s]\n",
      "100%|██████████| 10000/10000 [00:02<00:00, 4161.03it/s]\n",
      "100%|██████████| 10000/10000 [00:02<00:00, 4114.10it/s]\n",
      "  0%|          | 0/10000 [00:00<?, ?it/s]"
     ]
    },
    {
     "name": "stdout",
     "output_type": "stream",
     "text": [
      "Computing spastity:0.4, noise:0.5 ... \n"
     ]
    },
    {
     "name": "stderr",
     "output_type": "stream",
     "text": [
      "100%|██████████| 10000/10000 [00:02<00:00, 4290.56it/s]\n",
      "100%|██████████| 10000/10000 [00:02<00:00, 4237.01it/s]\n",
      "100%|██████████| 10000/10000 [00:02<00:00, 4533.39it/s]\n",
      "100%|██████████| 10000/10000 [00:02<00:00, 4470.55it/s]\n",
      "100%|██████████| 10000/10000 [00:02<00:00, 4475.49it/s]\n",
      "100%|██████████| 10000/10000 [00:02<00:00, 4475.49it/s]\n",
      "100%|██████████| 10000/10000 [00:02<00:00, 4349.26it/s]\n",
      "100%|██████████| 10000/10000 [00:02<00:00, 4326.21it/s]\n",
      "100%|██████████| 10000/10000 [00:02<00:00, 4447.36it/s]\n",
      "100%|██████████| 10000/10000 [00:02<00:00, 4256.99it/s]\n",
      "  0%|          | 0/10000 [00:00<?, ?it/s]"
     ]
    },
    {
     "name": "stdout",
     "output_type": "stream",
     "text": [
      "Computing spastity:0.4, noise:1 ... \n"
     ]
    },
    {
     "name": "stderr",
     "output_type": "stream",
     "text": [
      "100%|██████████| 10000/10000 [00:02<00:00, 4073.25it/s]\n",
      "100%|██████████| 10000/10000 [00:02<00:00, 3887.02it/s]\n",
      "100%|██████████| 10000/10000 [00:02<00:00, 4445.70it/s]\n",
      "100%|██████████| 10000/10000 [00:02<00:00, 4502.84it/s]\n",
      "100%|██████████| 10000/10000 [00:02<00:00, 4437.31it/s]\n",
      "100%|██████████| 10000/10000 [00:02<00:00, 4197.67it/s]\n",
      "100%|██████████| 10000/10000 [00:02<00:00, 4215.64it/s]\n",
      "100%|██████████| 10000/10000 [00:02<00:00, 4434.46it/s]\n",
      "100%|██████████| 10000/10000 [00:02<00:00, 4389.92it/s]\n",
      "100%|██████████| 10000/10000 [00:02<00:00, 4328.08it/s]\n",
      "  0%|          | 0/10000 [00:00<?, ?it/s]"
     ]
    },
    {
     "name": "stdout",
     "output_type": "stream",
     "text": [
      "Computing spastity:0.4, noise:2 ... \n"
     ]
    },
    {
     "name": "stderr",
     "output_type": "stream",
     "text": [
      "100%|██████████| 10000/10000 [00:02<00:00, 4102.79it/s]\n",
      "100%|██████████| 10000/10000 [00:02<00:00, 4193.59it/s]\n",
      "100%|██████████| 10000/10000 [00:02<00:00, 4225.49it/s]\n",
      "100%|██████████| 10000/10000 [00:02<00:00, 4297.92it/s]\n",
      "100%|██████████| 10000/10000 [00:02<00:00, 4435.34it/s]\n",
      "100%|██████████| 10000/10000 [00:02<00:00, 4162.77it/s]\n",
      "100%|██████████| 10000/10000 [00:02<00:00, 4216.86it/s]\n",
      "100%|██████████| 10000/10000 [00:02<00:00, 4373.27it/s]\n",
      "100%|██████████| 10000/10000 [00:02<00:00, 4143.92it/s]\n",
      "100%|██████████| 10000/10000 [00:02<00:00, 3940.00it/s]\n",
      "  0%|          | 0/10000 [00:00<?, ?it/s]"
     ]
    },
    {
     "name": "stdout",
     "output_type": "stream",
     "text": [
      "Computing spastity:0.6, noise:0 ... \n"
     ]
    },
    {
     "name": "stderr",
     "output_type": "stream",
     "text": [
      "100%|██████████| 10000/10000 [00:02<00:00, 4177.69it/s]\n",
      "100%|██████████| 10000/10000 [00:02<00:00, 4317.61it/s]\n",
      "100%|██████████| 10000/10000 [00:02<00:00, 4373.24it/s]\n",
      "100%|██████████| 10000/10000 [00:02<00:00, 4245.37it/s]\n",
      "100%|██████████| 10000/10000 [00:02<00:00, 4366.17it/s]\n",
      "100%|██████████| 10000/10000 [00:02<00:00, 4246.82it/s]\n",
      "100%|██████████| 10000/10000 [00:02<00:00, 4332.38it/s]\n",
      "100%|██████████| 10000/10000 [00:02<00:00, 4219.77it/s]\n",
      "100%|██████████| 10000/10000 [00:02<00:00, 4280.22it/s]\n",
      "100%|██████████| 10000/10000 [00:02<00:00, 4177.04it/s]\n",
      "  0%|          | 0/10000 [00:00<?, ?it/s]"
     ]
    },
    {
     "name": "stdout",
     "output_type": "stream",
     "text": [
      "Computing spastity:0.6, noise:0.1 ... \n"
     ]
    },
    {
     "name": "stderr",
     "output_type": "stream",
     "text": [
      "100%|██████████| 10000/10000 [00:02<00:00, 4405.24it/s]\n",
      "100%|██████████| 10000/10000 [00:02<00:00, 4343.53it/s]\n",
      "100%|██████████| 10000/10000 [00:02<00:00, 4271.14it/s]\n",
      "100%|██████████| 10000/10000 [00:02<00:00, 4116.52it/s]\n",
      "100%|██████████| 10000/10000 [00:02<00:00, 4168.15it/s]\n",
      "100%|██████████| 10000/10000 [00:02<00:00, 4280.79it/s]\n",
      "100%|██████████| 10000/10000 [00:02<00:00, 4403.23it/s]\n",
      "100%|██████████| 10000/10000 [00:02<00:00, 4282.77it/s]\n",
      "100%|██████████| 10000/10000 [00:02<00:00, 4360.60it/s]\n",
      "100%|██████████| 10000/10000 [00:02<00:00, 4318.21it/s]\n",
      "  0%|          | 0/10000 [00:00<?, ?it/s]"
     ]
    },
    {
     "name": "stdout",
     "output_type": "stream",
     "text": [
      "Computing spastity:0.6, noise:0.5 ... \n"
     ]
    },
    {
     "name": "stderr",
     "output_type": "stream",
     "text": [
      "100%|██████████| 10000/10000 [00:02<00:00, 4336.08it/s]\n",
      "100%|██████████| 10000/10000 [00:02<00:00, 4364.60it/s]\n",
      "100%|██████████| 10000/10000 [00:02<00:00, 4336.61it/s]\n",
      "100%|██████████| 10000/10000 [00:02<00:00, 4341.45it/s]\n",
      "100%|██████████| 10000/10000 [00:02<00:00, 4327.68it/s]\n",
      "100%|██████████| 10000/10000 [00:02<00:00, 4225.06it/s]\n",
      "100%|██████████| 10000/10000 [00:02<00:00, 4164.79it/s]\n",
      "100%|██████████| 10000/10000 [00:02<00:00, 4000.49it/s]\n",
      "100%|██████████| 10000/10000 [00:02<00:00, 4302.96it/s]\n",
      "100%|██████████| 10000/10000 [00:02<00:00, 4123.32it/s]\n",
      "  0%|          | 0/10000 [00:00<?, ?it/s]"
     ]
    },
    {
     "name": "stdout",
     "output_type": "stream",
     "text": [
      "Computing spastity:0.6, noise:1 ... \n"
     ]
    },
    {
     "name": "stderr",
     "output_type": "stream",
     "text": [
      "100%|██████████| 10000/10000 [00:02<00:00, 4150.66it/s]\n",
      "100%|██████████| 10000/10000 [00:02<00:00, 4482.48it/s]\n",
      "100%|██████████| 10000/10000 [00:02<00:00, 4059.81it/s]\n",
      "100%|██████████| 10000/10000 [00:02<00:00, 4450.18it/s]\n",
      "100%|██████████| 10000/10000 [00:02<00:00, 4389.57it/s]\n",
      "100%|██████████| 10000/10000 [00:02<00:00, 4392.80it/s]\n",
      "100%|██████████| 10000/10000 [00:02<00:00, 4339.24it/s]\n",
      "100%|██████████| 10000/10000 [00:02<00:00, 4474.83it/s]\n",
      "100%|██████████| 10000/10000 [00:02<00:00, 4420.09it/s]\n",
      "100%|██████████| 10000/10000 [00:02<00:00, 4502.23it/s]\n",
      "  0%|          | 0/10000 [00:00<?, ?it/s]"
     ]
    },
    {
     "name": "stdout",
     "output_type": "stream",
     "text": [
      "Computing spastity:0.6, noise:2 ... \n"
     ]
    },
    {
     "name": "stderr",
     "output_type": "stream",
     "text": [
      "100%|██████████| 10000/10000 [00:02<00:00, 4249.51it/s]\n",
      "100%|██████████| 10000/10000 [00:02<00:00, 4216.76it/s]\n",
      "100%|██████████| 10000/10000 [00:02<00:00, 4394.18it/s]\n",
      "100%|██████████| 10000/10000 [00:02<00:00, 4255.18it/s]\n",
      "100%|██████████| 10000/10000 [00:02<00:00, 4514.92it/s]\n",
      "100%|██████████| 10000/10000 [00:02<00:00, 4383.13it/s]\n",
      "100%|██████████| 10000/10000 [00:02<00:00, 4559.51it/s]\n",
      "100%|██████████| 10000/10000 [00:02<00:00, 4571.42it/s]\n",
      "100%|██████████| 10000/10000 [00:02<00:00, 4465.81it/s]\n",
      "100%|██████████| 10000/10000 [00:02<00:00, 4561.97it/s]\n",
      "  0%|          | 0/10000 [00:00<?, ?it/s]"
     ]
    },
    {
     "name": "stdout",
     "output_type": "stream",
     "text": [
      "Computing spastity:0.8, noise:0 ... \n"
     ]
    },
    {
     "name": "stderr",
     "output_type": "stream",
     "text": [
      "100%|██████████| 10000/10000 [00:02<00:00, 4589.62it/s]\n",
      "100%|██████████| 10000/10000 [00:02<00:00, 4613.59it/s]\n",
      "100%|██████████| 10000/10000 [00:02<00:00, 4559.24it/s]\n",
      "100%|██████████| 10000/10000 [00:02<00:00, 4260.62it/s]\n",
      "100%|██████████| 10000/10000 [00:02<00:00, 4200.82it/s]\n",
      "100%|██████████| 10000/10000 [00:02<00:00, 4387.50it/s]\n",
      "100%|██████████| 10000/10000 [00:02<00:00, 4443.76it/s]\n",
      "100%|██████████| 10000/10000 [00:02<00:00, 4123.94it/s]\n",
      "100%|██████████| 10000/10000 [00:02<00:00, 4421.95it/s]\n",
      "100%|██████████| 10000/10000 [00:02<00:00, 4484.79it/s]\n",
      "  0%|          | 0/10000 [00:00<?, ?it/s]"
     ]
    },
    {
     "name": "stdout",
     "output_type": "stream",
     "text": [
      "Computing spastity:0.8, noise:0.1 ... \n"
     ]
    },
    {
     "name": "stderr",
     "output_type": "stream",
     "text": [
      "100%|██████████| 10000/10000 [00:02<00:00, 4286.42it/s]\n",
      "100%|██████████| 10000/10000 [00:02<00:00, 4272.01it/s]\n",
      "100%|██████████| 10000/10000 [00:02<00:00, 4347.08it/s]\n",
      "100%|██████████| 10000/10000 [00:02<00:00, 4193.66it/s]\n",
      "100%|██████████| 10000/10000 [00:02<00:00, 4386.33it/s]\n",
      "100%|██████████| 10000/10000 [00:02<00:00, 4557.10it/s]\n",
      "100%|██████████| 10000/10000 [00:02<00:00, 4321.36it/s]\n",
      "100%|██████████| 10000/10000 [00:02<00:00, 4344.19it/s]\n",
      "100%|██████████| 10000/10000 [00:02<00:00, 4115.27it/s]\n",
      "100%|██████████| 10000/10000 [00:02<00:00, 4168.46it/s]\n",
      "  0%|          | 0/10000 [00:00<?, ?it/s]"
     ]
    },
    {
     "name": "stdout",
     "output_type": "stream",
     "text": [
      "Computing spastity:0.8, noise:0.5 ... \n"
     ]
    },
    {
     "name": "stderr",
     "output_type": "stream",
     "text": [
      "100%|██████████| 10000/10000 [00:02<00:00, 4250.15it/s]\n",
      "100%|██████████| 10000/10000 [00:02<00:00, 4289.11it/s]\n",
      "100%|██████████| 10000/10000 [00:02<00:00, 4428.10it/s]\n",
      "100%|██████████| 10000/10000 [00:02<00:00, 4387.38it/s]\n",
      "100%|██████████| 10000/10000 [00:02<00:00, 4451.08it/s]\n",
      "100%|██████████| 10000/10000 [00:02<00:00, 4315.34it/s]\n",
      "100%|██████████| 10000/10000 [00:02<00:00, 4282.94it/s]\n",
      "100%|██████████| 10000/10000 [00:02<00:00, 4506.19it/s]\n",
      "100%|██████████| 10000/10000 [00:02<00:00, 4280.09it/s]\n",
      "100%|██████████| 10000/10000 [00:02<00:00, 4406.21it/s]\n",
      "  0%|          | 0/10000 [00:00<?, ?it/s]"
     ]
    },
    {
     "name": "stdout",
     "output_type": "stream",
     "text": [
      "Computing spastity:0.8, noise:1 ... \n"
     ]
    },
    {
     "name": "stderr",
     "output_type": "stream",
     "text": [
      "100%|██████████| 10000/10000 [00:02<00:00, 4268.33it/s]\n",
      "100%|██████████| 10000/10000 [00:02<00:00, 4538.17it/s]\n",
      "100%|██████████| 10000/10000 [00:02<00:00, 4442.75it/s]\n",
      "100%|██████████| 10000/10000 [00:02<00:00, 4526.88it/s]\n",
      "100%|██████████| 10000/10000 [00:02<00:00, 4400.93it/s]\n",
      "100%|██████████| 10000/10000 [00:02<00:00, 4290.37it/s]\n",
      "100%|██████████| 10000/10000 [00:02<00:00, 4423.67it/s]\n",
      "100%|██████████| 10000/10000 [00:02<00:00, 4573.72it/s]\n",
      "100%|██████████| 10000/10000 [00:02<00:00, 4667.36it/s]\n",
      "100%|██████████| 10000/10000 [00:02<00:00, 4282.93it/s]\n",
      "  0%|          | 0/10000 [00:00<?, ?it/s]"
     ]
    },
    {
     "name": "stdout",
     "output_type": "stream",
     "text": [
      "Computing spastity:0.8, noise:2 ... \n"
     ]
    },
    {
     "name": "stderr",
     "output_type": "stream",
     "text": [
      "100%|██████████| 10000/10000 [00:02<00:00, 4454.45it/s]\n",
      "100%|██████████| 10000/10000 [00:02<00:00, 4338.98it/s]\n",
      "100%|██████████| 10000/10000 [00:02<00:00, 4528.22it/s]\n",
      "100%|██████████| 10000/10000 [00:02<00:00, 4525.08it/s]\n",
      "100%|██████████| 10000/10000 [00:02<00:00, 4459.43it/s]\n",
      "100%|██████████| 10000/10000 [00:02<00:00, 4441.28it/s]\n",
      "100%|██████████| 10000/10000 [00:02<00:00, 4505.87it/s]\n",
      "100%|██████████| 10000/10000 [00:02<00:00, 4573.01it/s]\n",
      "100%|██████████| 10000/10000 [00:02<00:00, 4291.06it/s]\n",
      "100%|██████████| 10000/10000 [00:02<00:00, 4494.89it/s]\n"
     ]
    }
   ],
   "source": [
    "eta_l = 0.0001 # LEARNING RATE\n",
    "n_rounds = 10 # AMOUNT OF LEARNING\n",
    "\n",
    "sparsitites = [0.1,0.2,0.3,0.4,0.6,0.8]\n",
    "noise_levels = [0,0.1,0.5,1,2]\n",
    "\n",
    "CA1_data = {'sparsity':[],\n",
    "            'noise_level':[],\n",
    "            'initial_connectivity':[],\n",
    "            'trained_connectivity':[],\n",
    "            'pfc_distances':[],\n",
    "            'retr_correlations':[]}\n",
    "\n",
    "\n",
    "for spars,noise in product(sparsitites,noise_levels):\n",
    "        print(f\"Computing spastity:{spars}, noise:{noise} ... \")\n",
    "        CA1_data['sparsity'].append(spars)\n",
    "        CA1_data['noise_level'].append(noise)\n",
    "        \n",
    "        # TRAINING\n",
    "\n",
    "        X_Grid, Y_Grid, X_Pf, Y_Pf, N_CA3 = BuildEnvironment(L=100,CA3_Dens=10,Samp_Dens=1)\n",
    "        XY_Coor = np.vstack((X_Grid.flatten(), Y_Grid.flatten())).T \n",
    "        XY_DD = pdist(XY_Coor)\n",
    "        N_CA1 = N_CA3 * 3\n",
    "        Conn = Connections_Init(N_CA3,N_CA1)\n",
    "        \n",
    "        CA1_data['initial_connectivity'].append(Conn)\n",
    "\n",
    "        for l_round in range(n_rounds):\n",
    "            dw_tot = 0\n",
    "            #swipes the envirronment\n",
    "            for zz in tqdm(range(XY_Coor.shape[0])):\n",
    "                Act_XY = PlaceField(XY_Coor[zz][0],XY_Coor[zz][1],X_Pf.flatten(),Y_Pf.flatten())\n",
    "                CA1_Act = Act_XY@Conn\n",
    "                CA1_Time = Normalize_Activity(CA1_Act,sparsity=spars)\n",
    "\n",
    "                Pre = Act_XY[:,np.newaxis]\n",
    "                Post = CA1_Time[:,np.newaxis]\n",
    "\n",
    "                dw_tot += Compute_Plasticity(Pre,Post,eta=eta_l)\n",
    "\n",
    "            Conn = Apply_Plasticity(Conn,dw_tot)\n",
    "        \n",
    "        CA1_data['trained_connectivity'].append(Conn)\n",
    "\n",
    "        \n",
    "\n",
    "        # TESTING: why is the initialization different?\n",
    "\n",
    "        X_Grid, Y_Grid, X_Pf, Y_Pf, N_CA3 = BuildEnvironment(L=100,CA3_Dens=10,Samp_Dens=10)\n",
    "        XY_Coor = np.vstack((X_Grid.flatten(), Y_Grid.flatten())).T \n",
    "        XY_DD = pdist(XY_Coor)\n",
    "        N_CA1 = N_CA3 * 3\n",
    "\n",
    "\n",
    "        CA1_Out = np.zeros((XY_Coor.shape[0],N_CA1)) \n",
    "        for zz in range(XY_Coor.shape[0]):\n",
    "            Act_XY = PlaceField(XY_Coor[zz][0],XY_Coor[zz][1],X_Pf.flatten(),Y_Pf.flatten())\n",
    "            Act_XY = Add_Noise(Act_XY,sigma=noise)\n",
    "            CA1_Act = Act_XY@Conn\n",
    "\n",
    "\n",
    "            CA1_Out[zz,:] = Normalize_Activity(CA1_Act,sparsity=spars)\n",
    "\n",
    "\n",
    "        CA1_DD = 1 - pdist(CA1_Out,metric='correlation')\n",
    "\n",
    "        CA1_data['pfc_distances'].append(XY_DD)\n",
    "        CA1_data['retr_correlations'].append(CA1_DD)\n",
    "\n",
    "\n",
    "CA3_Out = np.zeros((XY_Coor.shape[0],N_CA3)) \n",
    "for zz in range(XY_Coor.shape[0]):\n",
    "    Act_XY = PlaceField(XY_Coor[zz][0],XY_Coor[zz][1],X_Pf.flatten(),Y_Pf.flatten())\n",
    "    Act_XY = Add_Noise(Act_XY,sigma=noise)\n",
    "    CA3_Out[zz,:] = Act_XY\n",
    "CA3_DD = 1 - pdist(CA3_Out,metric='correlation')\n",
    "\n",
    "CA3_data = {'pfc_distances':XY_DD,'correlations':CA3_DD}"
   ]
  },
  {
   "cell_type": "code",
   "execution_count": 62,
   "id": "212ddf66",
   "metadata": {},
   "outputs": [],
   "source": [
    "# save output to file\n",
    "out_file_path = 'processed_data/CA1_data_noisy_retrieval.pickle'\n",
    "with open(out_file_path, 'wb') as handle:\n",
    "    pickle.dump(CA1_data, handle)\n",
    "\n",
    "out_file_path = 'processed_data/CA3_data_noisy_retrieval.pickle'\n",
    "with open(out_file_path, 'wb') as handle:\n",
    "    pickle.dump(CA3_data, handle)"
   ]
  },
  {
   "cell_type": "code",
   "execution_count": 63,
   "id": "1bef7816",
   "metadata": {},
   "outputs": [
    {
     "data": {
      "text/plain": [
       "<matplotlib.legend.Legend at 0x7fcdd8fbf970>"
      ]
     },
     "execution_count": 63,
     "metadata": {},
     "output_type": "execute_result"
    },
    {
     "data": {
      "image/png": "[encoded data removed]",
      "text/plain": [
       "<Figure size 288x288 with 1 Axes>"
      ]
     },
     "metadata": {
      "needs_background": "light"
     },
     "output_type": "display_data"
    }
   ],
   "source": [
    "plt.figure(figsize=(4,4))\n",
    "plt.xlabel(\"sparsity (fraction active neurons)\")\n",
    "plt.ylabel(\"Correlation\")\n",
    "\n",
    "for noise in noise_levels:\n",
    "    idxs = np.where(np.asarray(CA1_data['noise_level'])==noise)\n",
    "    sparsitites = np.asarray(CA1_data['sparsity'])[idxs]\n",
    "    correlations = np.asarray(CA1_data['retr_correlations'])[idxs]\n",
    "    distances = np.asarray(CA1_data['pfc_distances'])[idxs]\n",
    "    binned_corr = []\n",
    "    for i,CA1_DD in enumerate(correlations):\n",
    "        binned_corr.append(binned_statistic(distances[i],CA1_DD,statistic='mean',bins=10)[0])\n",
    "    min_corr_l = [min(i) for i in binned_corr]\n",
    "    \n",
    "    plt.plot(sparsitites,min_corr_l,label=f'noise: {noise}')\n",
    "\n",
    "# CA3\n",
    "binned_corr = binned_statistic(CA3_data['pfc_distances'],CA3_data['correlations'],statistic='mean',bins=10)[0]\n",
    "plt.axhline(y=min(binned_corr),linestyle='--',linewidth=3,c='k',label='CA3')\n",
    "\n",
    "plt.legend()"
   ]
  },
  {
   "cell_type": "code",
   "execution_count": null,
   "id": "26688e6c",
   "metadata": {},
   "outputs": [],
   "source": []
  }
 ],
 "metadata": {
  "kernelspec": {
   "display_name": "Python 3.8.8 ('base')",
   "language": "python",
   "name": "python3"
  },
  "language_info": {
   "codemirror_mode": {
    "name": "ipython",
    "version": 3
   },
   "file_extension": ".py",
   "mimetype": "text/x-python",
   "name": "python",
   "nbconvert_exporter": "python",
   "pygments_lexer": "ipython3",
   "version": "3.8.8"
  },
  "vscode": {
   "interpreter": {
    "hash": "ec757111aa82fc412dab5a41ba1a33fdb6db5c8112df3ff06fec0dbff050b412"
   }
  }
 },
 "nbformat": 4,
 "nbformat_minor": 5
}
